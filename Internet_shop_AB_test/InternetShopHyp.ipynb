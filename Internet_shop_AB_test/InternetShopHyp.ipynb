{
 "cells": [
  {
   "cell_type": "markdown",
   "metadata": {},
   "source": [
    "# Принятие решений в интернет-магазине по результатам A/B теста"
   ]
  },
  {
   "cell_type": "markdown",
   "metadata": {},
   "source": [
    "## Основные положения"
   ]
  },
  {
   "cell_type": "markdown",
   "metadata": {},
   "source": [
    "### Описание проекта"
   ]
  },
  {
   "cell_type": "markdown",
   "metadata": {},
   "source": [
    "На начало выполнения проекта имеется список из 9 гипотез по увеличению выручки интернет-магазина. Для приоритизации гипотез необходмо применить фреймворки ICE и RICE. Далее необходимо проанализировать данные проведенного A/B теста, которые представлены в виде двух csv файлов. "
   ]
  },
  {
   "cell_type": "markdown",
   "metadata": {},
   "source": [
    "### Цель работы"
   ]
  },
  {
   "cell_type": "markdown",
   "metadata": {},
   "source": [
    "Цель работы - приоритизировать гипотезы и проанализировать результат A/B-теста. "
   ]
  },
  {
   "cell_type": "markdown",
   "metadata": {},
   "source": [
    "### План выполнения работ"
   ]
  },
  {
   "cell_type": "markdown",
   "metadata": {},
   "source": [
    "Последовательность выполнения работ:\n",
    "- анализ кумулятивного изменения выручки, среднего чека и количества заказов на посетителя;\n",
    "- определение аномальных данных;\n",
    "- расчет статистической значимости различий анализируемых параметров по \"сырым\" данным;\n",
    "- расчет статистической значимости различий анализируемых параметров по \"очищенным\" данным;\n",
    "- принять решение по результатам теста;\n",
    "- описать выводы."
   ]
  },
  {
   "cell_type": "markdown",
   "metadata": {},
   "source": [
    "## Выполнение работы"
   ]
  },
  {
   "cell_type": "code",
   "execution_count": 1,
   "metadata": {},
   "outputs": [],
   "source": [
    "import pandas as pd\n",
    "import numpy as np\n",
    "from IPython.display import display, HTML\n",
    "import datetime as dt\n",
    "import matplotlib.pyplot as plt\n",
    "import matplotlib.dates as mdates\n",
    "import scipy.stats as stats"
   ]
  },
  {
   "cell_type": "markdown",
   "metadata": {},
   "source": [
    "### Часть 1. Приоритизация гипотез."
   ]
  },
  {
   "cell_type": "markdown",
   "metadata": {},
   "source": [
    "#### Подготовка данных"
   ]
  },
  {
   "cell_type": "code",
   "execution_count": 2,
   "metadata": {},
   "outputs": [
    {
     "name": "stdout",
     "output_type": "stream",
     "text": [
      "<class 'pandas.core.frame.DataFrame'>\n",
      "RangeIndex: 9 entries, 0 to 8\n",
      "Data columns (total 5 columns):\n",
      " #   Column      Non-Null Count  Dtype \n",
      "---  ------      --------------  ----- \n",
      " 0   Hypothesis  9 non-null      object\n",
      " 1   Reach       9 non-null      int64 \n",
      " 2   Impact      9 non-null      int64 \n",
      " 3   Confidence  9 non-null      int64 \n",
      " 4   Efforts     9 non-null      int64 \n",
      "dtypes: int64(4), object(1)\n",
      "memory usage: 488.0+ bytes\n"
     ]
    },
    {
     "data": {
      "text/plain": [
       "None"
      ]
     },
     "metadata": {},
     "output_type": "display_data"
    },
    {
     "data": {
      "text/html": [
       "<table border=\"1\" class=\"dataframe\">\n",
       "  <thead>\n",
       "    <tr style=\"text-align: right;\">\n",
       "      <th></th>\n",
       "      <th>Hypothesis</th>\n",
       "      <th>Reach</th>\n",
       "      <th>Impact</th>\n",
       "      <th>Confidence</th>\n",
       "      <th>Efforts</th>\n",
       "    </tr>\n",
       "  </thead>\n",
       "  <tbody>\n",
       "    <tr>\n",
       "      <th>0</th>\n",
       "      <td>Добавить два новых канала привлечения трафика, что позволит привлекать на 30% больше пользователей</td>\n",
       "      <td>3</td>\n",
       "      <td>10</td>\n",
       "      <td>8</td>\n",
       "      <td>6</td>\n",
       "    </tr>\n",
       "    <tr>\n",
       "      <th>1</th>\n",
       "      <td>Запустить собственную службу доставки, что сократит срок доставки заказов</td>\n",
       "      <td>2</td>\n",
       "      <td>5</td>\n",
       "      <td>4</td>\n",
       "      <td>10</td>\n",
       "    </tr>\n",
       "    <tr>\n",
       "      <th>2</th>\n",
       "      <td>Добавить блоки рекомендаций товаров на сайт интернет магазина, чтобы повысить конверсию и средний чек заказа</td>\n",
       "      <td>8</td>\n",
       "      <td>3</td>\n",
       "      <td>7</td>\n",
       "      <td>3</td>\n",
       "    </tr>\n",
       "    <tr>\n",
       "      <th>3</th>\n",
       "      <td>Изменить структура категорий, что увеличит конверсию, т.к. пользователи быстрее найдут нужный товар</td>\n",
       "      <td>8</td>\n",
       "      <td>3</td>\n",
       "      <td>3</td>\n",
       "      <td>8</td>\n",
       "    </tr>\n",
       "    <tr>\n",
       "      <th>4</th>\n",
       "      <td>Изменить цвет фона главной страницы, чтобы увеличить вовлеченность пользователей</td>\n",
       "      <td>3</td>\n",
       "      <td>1</td>\n",
       "      <td>1</td>\n",
       "      <td>1</td>\n",
       "    </tr>\n",
       "    <tr>\n",
       "      <th>5</th>\n",
       "      <td>Добавить страницу отзывов клиентов о магазине, что позволит увеличить количество заказов</td>\n",
       "      <td>3</td>\n",
       "      <td>2</td>\n",
       "      <td>2</td>\n",
       "      <td>3</td>\n",
       "    </tr>\n",
       "    <tr>\n",
       "      <th>6</th>\n",
       "      <td>Показать на главной странице баннеры с актуальными акциями и распродажами, чтобы увеличить конверсию</td>\n",
       "      <td>5</td>\n",
       "      <td>3</td>\n",
       "      <td>8</td>\n",
       "      <td>3</td>\n",
       "    </tr>\n",
       "    <tr>\n",
       "      <th>7</th>\n",
       "      <td>Добавить форму подписки на все основные страницы, чтобы собрать базу клиентов для email-рассылок</td>\n",
       "      <td>10</td>\n",
       "      <td>7</td>\n",
       "      <td>8</td>\n",
       "      <td>5</td>\n",
       "    </tr>\n",
       "    <tr>\n",
       "      <th>8</th>\n",
       "      <td>Запустить акцию, дающую скидку на товар в день рождения</td>\n",
       "      <td>1</td>\n",
       "      <td>9</td>\n",
       "      <td>9</td>\n",
       "      <td>5</td>\n",
       "    </tr>\n",
       "  </tbody>\n",
       "</table>"
      ],
      "text/plain": [
       "<IPython.core.display.HTML object>"
      ]
     },
     "execution_count": 2,
     "metadata": {},
     "output_type": "execute_result"
    }
   ],
   "source": [
    "h_data = pd.read_csv('/datasets/hypothesis.csv')\n",
    "display(h_data.info())\n",
    "HTML(h_data.to_html())"
   ]
  },
  {
   "cell_type": "markdown",
   "metadata": {},
   "source": [
    "Типы данных корректные. Названия колонок преобразуем в строчные."
   ]
  },
  {
   "cell_type": "code",
   "execution_count": 3,
   "metadata": {},
   "outputs": [
    {
     "name": "stdout",
     "output_type": "stream",
     "text": [
      "Index(['Hypothesis', 'Reach', 'Impact', 'Confidence', 'Efforts'], dtype='object')\n",
      "Index(['hypothesis', 'reach', 'impact', 'confidence', 'efforts'], dtype='object')\n"
     ]
    }
   ],
   "source": [
    "print(h_data.columns)\n",
    "h_data.columns = h_data.columns.str.lower()\n",
    "print(h_data.columns)"
   ]
  },
  {
   "cell_type": "markdown",
   "metadata": {},
   "source": [
    "#### Приоритизация по ICE"
   ]
  },
  {
   "cell_type": "markdown",
   "metadata": {},
   "source": [
    "Расчет приоритетов по фреймфорку ICE производится по формуле:\n",
    "$ICE\\ SCORE = \\frac{Impact * Confidence}{Efforts}$.\n",
    "\n",
    "Добавим новый столбец с соответствующим приоритетом."
   ]
  },
  {
   "cell_type": "code",
   "execution_count": 4,
   "metadata": {},
   "outputs": [
    {
     "data": {
      "text/html": [
       "<table border=\"1\" class=\"dataframe\">\n",
       "  <thead>\n",
       "    <tr style=\"text-align: right;\">\n",
       "      <th></th>\n",
       "      <th>hypothesis</th>\n",
       "      <th>reach</th>\n",
       "      <th>impact</th>\n",
       "      <th>confidence</th>\n",
       "      <th>efforts</th>\n",
       "      <th>ice</th>\n",
       "    </tr>\n",
       "  </thead>\n",
       "  <tbody>\n",
       "    <tr>\n",
       "      <th>8</th>\n",
       "      <td>Запустить акцию, дающую скидку на товар в день рождения</td>\n",
       "      <td>1</td>\n",
       "      <td>9</td>\n",
       "      <td>9</td>\n",
       "      <td>5</td>\n",
       "      <td>16.200</td>\n",
       "    </tr>\n",
       "    <tr>\n",
       "      <th>0</th>\n",
       "      <td>Добавить два новых канала привлечения трафика, что позволит привлекать на 30% больше пользователей</td>\n",
       "      <td>3</td>\n",
       "      <td>10</td>\n",
       "      <td>8</td>\n",
       "      <td>6</td>\n",
       "      <td>13.333</td>\n",
       "    </tr>\n",
       "    <tr>\n",
       "      <th>7</th>\n",
       "      <td>Добавить форму подписки на все основные страницы, чтобы собрать базу клиентов для email-рассылок</td>\n",
       "      <td>10</td>\n",
       "      <td>7</td>\n",
       "      <td>8</td>\n",
       "      <td>5</td>\n",
       "      <td>11.200</td>\n",
       "    </tr>\n",
       "    <tr>\n",
       "      <th>6</th>\n",
       "      <td>Показать на главной странице баннеры с актуальными акциями и распродажами, чтобы увеличить конверсию</td>\n",
       "      <td>5</td>\n",
       "      <td>3</td>\n",
       "      <td>8</td>\n",
       "      <td>3</td>\n",
       "      <td>8.000</td>\n",
       "    </tr>\n",
       "    <tr>\n",
       "      <th>2</th>\n",
       "      <td>Добавить блоки рекомендаций товаров на сайт интернет магазина, чтобы повысить конверсию и средний чек заказа</td>\n",
       "      <td>8</td>\n",
       "      <td>3</td>\n",
       "      <td>7</td>\n",
       "      <td>3</td>\n",
       "      <td>7.000</td>\n",
       "    </tr>\n",
       "    <tr>\n",
       "      <th>1</th>\n",
       "      <td>Запустить собственную службу доставки, что сократит срок доставки заказов</td>\n",
       "      <td>2</td>\n",
       "      <td>5</td>\n",
       "      <td>4</td>\n",
       "      <td>10</td>\n",
       "      <td>2.000</td>\n",
       "    </tr>\n",
       "    <tr>\n",
       "      <th>5</th>\n",
       "      <td>Добавить страницу отзывов клиентов о магазине, что позволит увеличить количество заказов</td>\n",
       "      <td>3</td>\n",
       "      <td>2</td>\n",
       "      <td>2</td>\n",
       "      <td>3</td>\n",
       "      <td>1.333</td>\n",
       "    </tr>\n",
       "    <tr>\n",
       "      <th>3</th>\n",
       "      <td>Изменить структура категорий, что увеличит конверсию, т.к. пользователи быстрее найдут нужный товар</td>\n",
       "      <td>8</td>\n",
       "      <td>3</td>\n",
       "      <td>3</td>\n",
       "      <td>8</td>\n",
       "      <td>1.125</td>\n",
       "    </tr>\n",
       "    <tr>\n",
       "      <th>4</th>\n",
       "      <td>Изменить цвет фона главной страницы, чтобы увеличить вовлеченность пользователей</td>\n",
       "      <td>3</td>\n",
       "      <td>1</td>\n",
       "      <td>1</td>\n",
       "      <td>1</td>\n",
       "      <td>1.000</td>\n",
       "    </tr>\n",
       "  </tbody>\n",
       "</table>"
      ],
      "text/plain": [
       "<IPython.core.display.HTML object>"
      ]
     },
     "execution_count": 4,
     "metadata": {},
     "output_type": "execute_result"
    }
   ],
   "source": [
    "h_data['ice'] = h_data['impact'] * h_data['confidence'] / h_data['efforts']\n",
    "HTML(h_data.sort_values(by='ice', ascending = False).round({'ice':3}).to_html())"
   ]
  },
  {
   "cell_type": "markdown",
   "metadata": {},
   "source": [
    "Наибольший приоритет по фреймворку ICE получила гипотеза \"Запустить акцию, дающую скидку на товар в день рождения\"."
   ]
  },
  {
   "cell_type": "markdown",
   "metadata": {},
   "source": [
    "#### Приоритизация по RICE"
   ]
  },
  {
   "cell_type": "markdown",
   "metadata": {},
   "source": [
    "Расчет приоритетов по фреймфорку RICE производится по формуле:\n",
    "$RICE\\ SCORE = \\frac{Reach * Impact * Confidence}{Efforts} = Reach * ICE\\ SCORE$\n",
    "\n",
    "То есть, фактически, мы добавляем учет охвата к предыдущему приоритету.\n",
    "Добавим новый столбец с соответствующим приоритетом."
   ]
  },
  {
   "cell_type": "code",
   "execution_count": 5,
   "metadata": {},
   "outputs": [
    {
     "data": {
      "text/html": [
       "<table border=\"1\" class=\"dataframe\">\n",
       "  <thead>\n",
       "    <tr style=\"text-align: right;\">\n",
       "      <th></th>\n",
       "      <th>hypothesis</th>\n",
       "      <th>reach</th>\n",
       "      <th>impact</th>\n",
       "      <th>confidence</th>\n",
       "      <th>efforts</th>\n",
       "      <th>ice</th>\n",
       "      <th>rice</th>\n",
       "    </tr>\n",
       "  </thead>\n",
       "  <tbody>\n",
       "    <tr>\n",
       "      <th>7</th>\n",
       "      <td>Добавить форму подписки на все основные страницы, чтобы собрать базу клиентов для email-рассылок</td>\n",
       "      <td>10</td>\n",
       "      <td>7</td>\n",
       "      <td>8</td>\n",
       "      <td>5</td>\n",
       "      <td>11.200</td>\n",
       "      <td>112.0</td>\n",
       "    </tr>\n",
       "    <tr>\n",
       "      <th>2</th>\n",
       "      <td>Добавить блоки рекомендаций товаров на сайт интернет магазина, чтобы повысить конверсию и средний чек заказа</td>\n",
       "      <td>8</td>\n",
       "      <td>3</td>\n",
       "      <td>7</td>\n",
       "      <td>3</td>\n",
       "      <td>7.000</td>\n",
       "      <td>56.0</td>\n",
       "    </tr>\n",
       "    <tr>\n",
       "      <th>0</th>\n",
       "      <td>Добавить два новых канала привлечения трафика, что позволит привлекать на 30% больше пользователей</td>\n",
       "      <td>3</td>\n",
       "      <td>10</td>\n",
       "      <td>8</td>\n",
       "      <td>6</td>\n",
       "      <td>13.333</td>\n",
       "      <td>40.0</td>\n",
       "    </tr>\n",
       "    <tr>\n",
       "      <th>6</th>\n",
       "      <td>Показать на главной странице баннеры с актуальными акциями и распродажами, чтобы увеличить конверсию</td>\n",
       "      <td>5</td>\n",
       "      <td>3</td>\n",
       "      <td>8</td>\n",
       "      <td>3</td>\n",
       "      <td>8.000</td>\n",
       "      <td>40.0</td>\n",
       "    </tr>\n",
       "    <tr>\n",
       "      <th>8</th>\n",
       "      <td>Запустить акцию, дающую скидку на товар в день рождения</td>\n",
       "      <td>1</td>\n",
       "      <td>9</td>\n",
       "      <td>9</td>\n",
       "      <td>5</td>\n",
       "      <td>16.200</td>\n",
       "      <td>16.2</td>\n",
       "    </tr>\n",
       "    <tr>\n",
       "      <th>3</th>\n",
       "      <td>Изменить структура категорий, что увеличит конверсию, т.к. пользователи быстрее найдут нужный товар</td>\n",
       "      <td>8</td>\n",
       "      <td>3</td>\n",
       "      <td>3</td>\n",
       "      <td>8</td>\n",
       "      <td>1.125</td>\n",
       "      <td>9.0</td>\n",
       "    </tr>\n",
       "    <tr>\n",
       "      <th>1</th>\n",
       "      <td>Запустить собственную службу доставки, что сократит срок доставки заказов</td>\n",
       "      <td>2</td>\n",
       "      <td>5</td>\n",
       "      <td>4</td>\n",
       "      <td>10</td>\n",
       "      <td>2.000</td>\n",
       "      <td>4.0</td>\n",
       "    </tr>\n",
       "    <tr>\n",
       "      <th>5</th>\n",
       "      <td>Добавить страницу отзывов клиентов о магазине, что позволит увеличить количество заказов</td>\n",
       "      <td>3</td>\n",
       "      <td>2</td>\n",
       "      <td>2</td>\n",
       "      <td>3</td>\n",
       "      <td>1.333</td>\n",
       "      <td>4.0</td>\n",
       "    </tr>\n",
       "    <tr>\n",
       "      <th>4</th>\n",
       "      <td>Изменить цвет фона главной страницы, чтобы увеличить вовлеченность пользователей</td>\n",
       "      <td>3</td>\n",
       "      <td>1</td>\n",
       "      <td>1</td>\n",
       "      <td>1</td>\n",
       "      <td>1.000</td>\n",
       "      <td>3.0</td>\n",
       "    </tr>\n",
       "  </tbody>\n",
       "</table>"
      ],
      "text/plain": [
       "<IPython.core.display.HTML object>"
      ]
     },
     "execution_count": 5,
     "metadata": {},
     "output_type": "execute_result"
    }
   ],
   "source": [
    "h_data['rice'] = h_data['reach'] * h_data['ice']\n",
    "HTML(h_data.sort_values(by='rice', ascending = False).round({'ice':3, 'rice':3}).to_html())"
   ]
  },
  {
   "cell_type": "markdown",
   "metadata": {},
   "source": [
    "Наибольший приоритет по фреймворку RICE получила гипотеза \"Добавить форму подписки на все основные страницы, чтобы собрать базу клиентов для email-рассылок\"."
   ]
  },
  {
   "cell_type": "markdown",
   "metadata": {},
   "source": [
    "#### Изменение приоритизации при смене фреймворка"
   ]
  },
  {
   "cell_type": "markdown",
   "metadata": {},
   "source": [
    "В целом, состав ТОП5 приоритетов не изменился. Но значительно изменился их порядок ранжирования. Это произошло потому, что в случае RICE мы дополнительно учли охват воздействия гипотез. "
   ]
  },
  {
   "cell_type": "markdown",
   "metadata": {},
   "source": [
    "### Часть 2. Анализ A/B-теста"
   ]
  },
  {
   "cell_type": "markdown",
   "metadata": {},
   "source": [
    "Получаем и проверяем данные результатов теста"
   ]
  },
  {
   "cell_type": "markdown",
   "metadata": {},
   "source": [
    "#### Проверка данных по заказам"
   ]
  },
  {
   "cell_type": "code",
   "execution_count": 6,
   "metadata": {},
   "outputs": [
    {
     "name": "stdout",
     "output_type": "stream",
     "text": [
      "<class 'pandas.core.frame.DataFrame'>\n",
      "RangeIndex: 1197 entries, 0 to 1196\n",
      "Data columns (total 5 columns):\n",
      " #   Column         Non-Null Count  Dtype \n",
      "---  ------         --------------  ----- \n",
      " 0   transactionId  1197 non-null   int64 \n",
      " 1   visitorId      1197 non-null   int64 \n",
      " 2   date           1197 non-null   object\n",
      " 3   revenue        1197 non-null   int64 \n",
      " 4   group          1197 non-null   object\n",
      "dtypes: int64(3), object(2)\n",
      "memory usage: 46.9+ KB\n"
     ]
    },
    {
     "data": {
      "text/plain": [
       "None"
      ]
     },
     "metadata": {},
     "output_type": "display_data"
    },
    {
     "data": {
      "text/html": [
       "<div>\n",
       "<style scoped>\n",
       "    .dataframe tbody tr th:only-of-type {\n",
       "        vertical-align: middle;\n",
       "    }\n",
       "\n",
       "    .dataframe tbody tr th {\n",
       "        vertical-align: top;\n",
       "    }\n",
       "\n",
       "    .dataframe thead th {\n",
       "        text-align: right;\n",
       "    }\n",
       "</style>\n",
       "<table border=\"1\" class=\"dataframe\">\n",
       "  <thead>\n",
       "    <tr style=\"text-align: right;\">\n",
       "      <th></th>\n",
       "      <th>transactionId</th>\n",
       "      <th>visitorId</th>\n",
       "      <th>date</th>\n",
       "      <th>revenue</th>\n",
       "      <th>group</th>\n",
       "    </tr>\n",
       "  </thead>\n",
       "  <tbody>\n",
       "    <tr>\n",
       "      <th>0</th>\n",
       "      <td>3667963787</td>\n",
       "      <td>3312258926</td>\n",
       "      <td>2019-08-15</td>\n",
       "      <td>1650</td>\n",
       "      <td>B</td>\n",
       "    </tr>\n",
       "    <tr>\n",
       "      <th>1</th>\n",
       "      <td>2804400009</td>\n",
       "      <td>3642806036</td>\n",
       "      <td>2019-08-15</td>\n",
       "      <td>730</td>\n",
       "      <td>B</td>\n",
       "    </tr>\n",
       "    <tr>\n",
       "      <th>2</th>\n",
       "      <td>2961555356</td>\n",
       "      <td>4069496402</td>\n",
       "      <td>2019-08-15</td>\n",
       "      <td>400</td>\n",
       "      <td>A</td>\n",
       "    </tr>\n",
       "    <tr>\n",
       "      <th>3</th>\n",
       "      <td>3797467345</td>\n",
       "      <td>1196621759</td>\n",
       "      <td>2019-08-15</td>\n",
       "      <td>9759</td>\n",
       "      <td>B</td>\n",
       "    </tr>\n",
       "    <tr>\n",
       "      <th>4</th>\n",
       "      <td>2282983706</td>\n",
       "      <td>2322279887</td>\n",
       "      <td>2019-08-15</td>\n",
       "      <td>2308</td>\n",
       "      <td>B</td>\n",
       "    </tr>\n",
       "    <tr>\n",
       "      <th>...</th>\n",
       "      <td>...</td>\n",
       "      <td>...</td>\n",
       "      <td>...</td>\n",
       "      <td>...</td>\n",
       "      <td>...</td>\n",
       "    </tr>\n",
       "    <tr>\n",
       "      <th>1192</th>\n",
       "      <td>2662137336</td>\n",
       "      <td>3733762160</td>\n",
       "      <td>2019-08-14</td>\n",
       "      <td>6490</td>\n",
       "      <td>B</td>\n",
       "    </tr>\n",
       "    <tr>\n",
       "      <th>1193</th>\n",
       "      <td>2203539145</td>\n",
       "      <td>370388673</td>\n",
       "      <td>2019-08-14</td>\n",
       "      <td>3190</td>\n",
       "      <td>A</td>\n",
       "    </tr>\n",
       "    <tr>\n",
       "      <th>1194</th>\n",
       "      <td>1807773912</td>\n",
       "      <td>573423106</td>\n",
       "      <td>2019-08-14</td>\n",
       "      <td>10550</td>\n",
       "      <td>A</td>\n",
       "    </tr>\n",
       "    <tr>\n",
       "      <th>1195</th>\n",
       "      <td>1947021204</td>\n",
       "      <td>1614305549</td>\n",
       "      <td>2019-08-14</td>\n",
       "      <td>100</td>\n",
       "      <td>A</td>\n",
       "    </tr>\n",
       "    <tr>\n",
       "      <th>1196</th>\n",
       "      <td>3936777065</td>\n",
       "      <td>2108080724</td>\n",
       "      <td>2019-08-15</td>\n",
       "      <td>202740</td>\n",
       "      <td>B</td>\n",
       "    </tr>\n",
       "  </tbody>\n",
       "</table>\n",
       "<p>1197 rows × 5 columns</p>\n",
       "</div>"
      ],
      "text/plain": [
       "      transactionId   visitorId        date  revenue group\n",
       "0        3667963787  3312258926  2019-08-15     1650     B\n",
       "1        2804400009  3642806036  2019-08-15      730     B\n",
       "2        2961555356  4069496402  2019-08-15      400     A\n",
       "3        3797467345  1196621759  2019-08-15     9759     B\n",
       "4        2282983706  2322279887  2019-08-15     2308     B\n",
       "...             ...         ...         ...      ...   ...\n",
       "1192     2662137336  3733762160  2019-08-14     6490     B\n",
       "1193     2203539145   370388673  2019-08-14     3190     A\n",
       "1194     1807773912   573423106  2019-08-14    10550     A\n",
       "1195     1947021204  1614305549  2019-08-14      100     A\n",
       "1196     3936777065  2108080724  2019-08-15   202740     B\n",
       "\n",
       "[1197 rows x 5 columns]"
      ]
     },
     "execution_count": 6,
     "metadata": {},
     "output_type": "execute_result"
    }
   ],
   "source": [
    "orders = pd.read_csv('/datasets/orders.csv')\n",
    "display(orders.info())\n",
    "orders"
   ]
  },
  {
   "cell_type": "markdown",
   "metadata": {},
   "source": [
    "Делаем названия колонок более удобными для работы, изменяем тип данных колонки с датами."
   ]
  },
  {
   "cell_type": "code",
   "execution_count": 7,
   "metadata": {},
   "outputs": [
    {
     "name": "stdout",
     "output_type": "stream",
     "text": [
      "<class 'pandas.core.frame.DataFrame'>\n",
      "RangeIndex: 1197 entries, 0 to 1196\n",
      "Data columns (total 5 columns):\n",
      " #   Column          Non-Null Count  Dtype         \n",
      "---  ------          --------------  -----         \n",
      " 0   transaction_id  1197 non-null   int64         \n",
      " 1   visitor_id      1197 non-null   int64         \n",
      " 2   date            1197 non-null   datetime64[ns]\n",
      " 3   revenue         1197 non-null   int64         \n",
      " 4   group           1197 non-null   object        \n",
      "dtypes: datetime64[ns](1), int64(3), object(1)\n",
      "memory usage: 46.9+ KB\n"
     ]
    }
   ],
   "source": [
    "orders = orders.rename(columns = {'transactionId':'transaction_id', 'visitorId':'visitor_id'})\n",
    "orders['date'] = orders['date'].map(\n",
    "    lambda x: dt.datetime.strptime(x, '%Y-%m-%d')\n",
    ")\n",
    "orders.info()"
   ]
  },
  {
   "cell_type": "code",
   "execution_count": 8,
   "metadata": {},
   "outputs": [
    {
     "data": {
      "text/html": [
       "<div>\n",
       "<style scoped>\n",
       "    .dataframe tbody tr th:only-of-type {\n",
       "        vertical-align: middle;\n",
       "    }\n",
       "\n",
       "    .dataframe tbody tr th {\n",
       "        vertical-align: top;\n",
       "    }\n",
       "\n",
       "    .dataframe thead th {\n",
       "        text-align: right;\n",
       "    }\n",
       "</style>\n",
       "<table border=\"1\" class=\"dataframe\">\n",
       "  <thead>\n",
       "    <tr style=\"text-align: right;\">\n",
       "      <th></th>\n",
       "      <th>transaction_id</th>\n",
       "      <th>visitor_id</th>\n",
       "      <th>date</th>\n",
       "      <th>revenue</th>\n",
       "      <th>group</th>\n",
       "    </tr>\n",
       "  </thead>\n",
       "  <tbody>\n",
       "    <tr>\n",
       "      <th>0</th>\n",
       "      <td>3667963787</td>\n",
       "      <td>3312258926</td>\n",
       "      <td>2019-08-15</td>\n",
       "      <td>1650</td>\n",
       "      <td>B</td>\n",
       "    </tr>\n",
       "    <tr>\n",
       "      <th>1</th>\n",
       "      <td>2804400009</td>\n",
       "      <td>3642806036</td>\n",
       "      <td>2019-08-15</td>\n",
       "      <td>730</td>\n",
       "      <td>B</td>\n",
       "    </tr>\n",
       "    <tr>\n",
       "      <th>2</th>\n",
       "      <td>2961555356</td>\n",
       "      <td>4069496402</td>\n",
       "      <td>2019-08-15</td>\n",
       "      <td>400</td>\n",
       "      <td>A</td>\n",
       "    </tr>\n",
       "    <tr>\n",
       "      <th>3</th>\n",
       "      <td>3797467345</td>\n",
       "      <td>1196621759</td>\n",
       "      <td>2019-08-15</td>\n",
       "      <td>9759</td>\n",
       "      <td>B</td>\n",
       "    </tr>\n",
       "    <tr>\n",
       "      <th>4</th>\n",
       "      <td>2282983706</td>\n",
       "      <td>2322279887</td>\n",
       "      <td>2019-08-15</td>\n",
       "      <td>2308</td>\n",
       "      <td>B</td>\n",
       "    </tr>\n",
       "    <tr>\n",
       "      <th>...</th>\n",
       "      <td>...</td>\n",
       "      <td>...</td>\n",
       "      <td>...</td>\n",
       "      <td>...</td>\n",
       "      <td>...</td>\n",
       "    </tr>\n",
       "    <tr>\n",
       "      <th>1192</th>\n",
       "      <td>2662137336</td>\n",
       "      <td>3733762160</td>\n",
       "      <td>2019-08-14</td>\n",
       "      <td>6490</td>\n",
       "      <td>B</td>\n",
       "    </tr>\n",
       "    <tr>\n",
       "      <th>1193</th>\n",
       "      <td>2203539145</td>\n",
       "      <td>370388673</td>\n",
       "      <td>2019-08-14</td>\n",
       "      <td>3190</td>\n",
       "      <td>A</td>\n",
       "    </tr>\n",
       "    <tr>\n",
       "      <th>1194</th>\n",
       "      <td>1807773912</td>\n",
       "      <td>573423106</td>\n",
       "      <td>2019-08-14</td>\n",
       "      <td>10550</td>\n",
       "      <td>A</td>\n",
       "    </tr>\n",
       "    <tr>\n",
       "      <th>1195</th>\n",
       "      <td>1947021204</td>\n",
       "      <td>1614305549</td>\n",
       "      <td>2019-08-14</td>\n",
       "      <td>100</td>\n",
       "      <td>A</td>\n",
       "    </tr>\n",
       "    <tr>\n",
       "      <th>1196</th>\n",
       "      <td>3936777065</td>\n",
       "      <td>2108080724</td>\n",
       "      <td>2019-08-15</td>\n",
       "      <td>202740</td>\n",
       "      <td>B</td>\n",
       "    </tr>\n",
       "  </tbody>\n",
       "</table>\n",
       "<p>1197 rows × 5 columns</p>\n",
       "</div>"
      ],
      "text/plain": [
       "      transaction_id  visitor_id       date  revenue group\n",
       "0         3667963787  3312258926 2019-08-15     1650     B\n",
       "1         2804400009  3642806036 2019-08-15      730     B\n",
       "2         2961555356  4069496402 2019-08-15      400     A\n",
       "3         3797467345  1196621759 2019-08-15     9759     B\n",
       "4         2282983706  2322279887 2019-08-15     2308     B\n",
       "...              ...         ...        ...      ...   ...\n",
       "1192      2662137336  3733762160 2019-08-14     6490     B\n",
       "1193      2203539145   370388673 2019-08-14     3190     A\n",
       "1194      1807773912   573423106 2019-08-14    10550     A\n",
       "1195      1947021204  1614305549 2019-08-14      100     A\n",
       "1196      3936777065  2108080724 2019-08-15   202740     B\n",
       "\n",
       "[1197 rows x 5 columns]"
      ]
     },
     "execution_count": 8,
     "metadata": {},
     "output_type": "execute_result"
    }
   ],
   "source": [
    "orders"
   ]
  },
  {
   "cell_type": "markdown",
   "metadata": {},
   "source": [
    "Проверяем состав данных."
   ]
  },
  {
   "cell_type": "code",
   "execution_count": 9,
   "metadata": {},
   "outputs": [
    {
     "name": "stdout",
     "output_type": "stream",
     "text": [
      "Полных дубликатов: 0, \n",
      " \"N/A\":\n",
      "transaction_id    0\n",
      "visitor_id        0\n",
      "date              0\n",
      "revenue           0\n",
      "group             0\n",
      "dtype: int64,\n",
      "\n",
      "уникальных значений: \n",
      "transaction_id    1197\n",
      "visitor_id        1031\n",
      "date                31\n",
      "revenue            713\n",
      "group                2\n",
      "dtype: int64\n",
      " Мин. выручка: 50, макс. выручка: 1_294_500\n"
     ]
    }
   ],
   "source": [
    "print('Полных дубликатов: {0}, \\n \"N/A\":\\n{1},\\n\\nуникальных значений: \\n{2}\\n Мин. выручка: {3}, макс. выручка: {4:_}'\n",
    "      .format(\n",
    "        orders.duplicated().sum(),\n",
    "        orders.isna().sum(),\n",
    "        orders.nunique(),\n",
    "        orders['revenue'].min(),  \n",
    "        orders['revenue'].max()\n",
    "      )\n",
    ")"
   ]
  },
  {
   "cell_type": "code",
   "execution_count": 10,
   "metadata": {},
   "outputs": [
    {
     "name": "stdout",
     "output_type": "stream",
     "text": [
      "Минимальная дата: 2019-08-01, максимальная дата: 2019-08-31\n",
      "B    640\n",
      "A    557\n",
      "Name: group, dtype: int64\n"
     ]
    }
   ],
   "source": [
    "print('Минимальная дата: {0:%Y-%m-%d}, максимальная дата: {1:%Y-%m-%d}'\n",
    "      .format(orders['date'].min(), orders['date'].max()) )\n",
    "print(orders['group'].value_counts())"
   ]
  },
  {
   "cell_type": "markdown",
   "metadata": {},
   "source": [
    "Проверяем пользователей, которые могли попасть в обе группы.\n",
    "    Берем список заказов пользователей группы B, и оставляем в нем только записи тех пользователей, которые есть в группе A, затем оставляем только колонку ID пользователей и оставляем только уникальные. "
   ]
  },
  {
   "cell_type": "code",
   "execution_count": 11,
   "metadata": {},
   "outputs": [
    {
     "name": "stdout",
     "output_type": "stream",
     "text": [
      "Количество одинаковых пользователей в обоих группах: 58\n"
     ]
    }
   ],
   "source": [
    "dupl_vis_id = orders.query('group == \"B\"')[orders.query('group == \"B\"')['visitor_id']\\\n",
    "                                       .isin(orders.query('group == \"A\"')['visitor_id'])]\\\n",
    "                                        ['visitor_id'].unique()\n",
    "print('Количество одинаковых пользователей в обоих группах:', len(dupl_vis_id))"
   ]
  },
  {
   "cell_type": "markdown",
   "metadata": {},
   "source": [
    "Удаляем записи с пользователями, попавшими в обе группы и проверяем наличие повторяющихся пользователей."
   ]
  },
  {
   "cell_type": "code",
   "execution_count": 12,
   "metadata": {
    "scrolled": false
   },
   "outputs": [
    {
     "name": "stdout",
     "output_type": "stream",
     "text": [
      "Количество одинаковых пользователей в обоих группах: 0\n"
     ]
    }
   ],
   "source": [
    "orders = orders.loc[~orders['visitor_id'].isin(dupl_vis_id)]\n",
    "#orders2.query('group == \"B\"')['visitor_id'].isin(orders2.query('group == \"A\"')['visitor_id']).sum()\n",
    "\n",
    "dupl_vis_id = orders.query('group == \"B\"')[orders.query('group == \"B\"')['visitor_id']\\\n",
    "                                       .isin(orders.query('group == \"A\"')['visitor_id'])]\\\n",
    "                                        ['visitor_id'].unique()\n",
    "print('Количество одинаковых пользователей в обоих группах:', len(dupl_vis_id))"
   ]
  },
  {
   "cell_type": "markdown",
   "metadata": {},
   "source": [
    "#### Проверка данных по посетителям"
   ]
  },
  {
   "cell_type": "code",
   "execution_count": 13,
   "metadata": {},
   "outputs": [
    {
     "name": "stdout",
     "output_type": "stream",
     "text": [
      "<class 'pandas.core.frame.DataFrame'>\n",
      "RangeIndex: 62 entries, 0 to 61\n",
      "Data columns (total 3 columns):\n",
      " #   Column    Non-Null Count  Dtype \n",
      "---  ------    --------------  ----- \n",
      " 0   date      62 non-null     object\n",
      " 1   group     62 non-null     object\n",
      " 2   visitors  62 non-null     int64 \n",
      "dtypes: int64(1), object(2)\n",
      "memory usage: 1.6+ KB\n"
     ]
    },
    {
     "data": {
      "text/plain": [
       "None"
      ]
     },
     "metadata": {},
     "output_type": "display_data"
    },
    {
     "data": {
      "text/html": [
       "<div>\n",
       "<style scoped>\n",
       "    .dataframe tbody tr th:only-of-type {\n",
       "        vertical-align: middle;\n",
       "    }\n",
       "\n",
       "    .dataframe tbody tr th {\n",
       "        vertical-align: top;\n",
       "    }\n",
       "\n",
       "    .dataframe thead th {\n",
       "        text-align: right;\n",
       "    }\n",
       "</style>\n",
       "<table border=\"1\" class=\"dataframe\">\n",
       "  <thead>\n",
       "    <tr style=\"text-align: right;\">\n",
       "      <th></th>\n",
       "      <th>date</th>\n",
       "      <th>group</th>\n",
       "      <th>visitors</th>\n",
       "    </tr>\n",
       "  </thead>\n",
       "  <tbody>\n",
       "    <tr>\n",
       "      <th>0</th>\n",
       "      <td>2019-08-01</td>\n",
       "      <td>A</td>\n",
       "      <td>719</td>\n",
       "    </tr>\n",
       "    <tr>\n",
       "      <th>1</th>\n",
       "      <td>2019-08-02</td>\n",
       "      <td>A</td>\n",
       "      <td>619</td>\n",
       "    </tr>\n",
       "    <tr>\n",
       "      <th>2</th>\n",
       "      <td>2019-08-03</td>\n",
       "      <td>A</td>\n",
       "      <td>507</td>\n",
       "    </tr>\n",
       "    <tr>\n",
       "      <th>3</th>\n",
       "      <td>2019-08-04</td>\n",
       "      <td>A</td>\n",
       "      <td>717</td>\n",
       "    </tr>\n",
       "    <tr>\n",
       "      <th>4</th>\n",
       "      <td>2019-08-05</td>\n",
       "      <td>A</td>\n",
       "      <td>756</td>\n",
       "    </tr>\n",
       "    <tr>\n",
       "      <th>...</th>\n",
       "      <td>...</td>\n",
       "      <td>...</td>\n",
       "      <td>...</td>\n",
       "    </tr>\n",
       "    <tr>\n",
       "      <th>57</th>\n",
       "      <td>2019-08-27</td>\n",
       "      <td>B</td>\n",
       "      <td>720</td>\n",
       "    </tr>\n",
       "    <tr>\n",
       "      <th>58</th>\n",
       "      <td>2019-08-28</td>\n",
       "      <td>B</td>\n",
       "      <td>654</td>\n",
       "    </tr>\n",
       "    <tr>\n",
       "      <th>59</th>\n",
       "      <td>2019-08-29</td>\n",
       "      <td>B</td>\n",
       "      <td>531</td>\n",
       "    </tr>\n",
       "    <tr>\n",
       "      <th>60</th>\n",
       "      <td>2019-08-30</td>\n",
       "      <td>B</td>\n",
       "      <td>490</td>\n",
       "    </tr>\n",
       "    <tr>\n",
       "      <th>61</th>\n",
       "      <td>2019-08-31</td>\n",
       "      <td>B</td>\n",
       "      <td>718</td>\n",
       "    </tr>\n",
       "  </tbody>\n",
       "</table>\n",
       "<p>62 rows × 3 columns</p>\n",
       "</div>"
      ],
      "text/plain": [
       "          date group  visitors\n",
       "0   2019-08-01     A       719\n",
       "1   2019-08-02     A       619\n",
       "2   2019-08-03     A       507\n",
       "3   2019-08-04     A       717\n",
       "4   2019-08-05     A       756\n",
       "..         ...   ...       ...\n",
       "57  2019-08-27     B       720\n",
       "58  2019-08-28     B       654\n",
       "59  2019-08-29     B       531\n",
       "60  2019-08-30     B       490\n",
       "61  2019-08-31     B       718\n",
       "\n",
       "[62 rows x 3 columns]"
      ]
     },
     "execution_count": 13,
     "metadata": {},
     "output_type": "execute_result"
    }
   ],
   "source": [
    "visitors = pd.read_csv('/datasets/visitors.csv')\n",
    "display(visitors.info())\n",
    "visitors"
   ]
  },
  {
   "cell_type": "markdown",
   "metadata": {},
   "source": [
    "Изменяем тип данных колонки с датами."
   ]
  },
  {
   "cell_type": "code",
   "execution_count": 14,
   "metadata": {},
   "outputs": [
    {
     "name": "stdout",
     "output_type": "stream",
     "text": [
      "<class 'pandas.core.frame.DataFrame'>\n",
      "RangeIndex: 62 entries, 0 to 61\n",
      "Data columns (total 3 columns):\n",
      " #   Column    Non-Null Count  Dtype         \n",
      "---  ------    --------------  -----         \n",
      " 0   date      62 non-null     datetime64[ns]\n",
      " 1   group     62 non-null     object        \n",
      " 2   visitors  62 non-null     int64         \n",
      "dtypes: datetime64[ns](1), int64(1), object(1)\n",
      "memory usage: 1.6+ KB\n"
     ]
    }
   ],
   "source": [
    "visitors['date'] = visitors['date'].map(\n",
    "    lambda x: dt.datetime.strptime(x, '%Y-%m-%d')\n",
    ")\n",
    "visitors.info()"
   ]
  },
  {
   "cell_type": "markdown",
   "metadata": {},
   "source": [
    "Проверяем состав данных."
   ]
  },
  {
   "cell_type": "code",
   "execution_count": 15,
   "metadata": {},
   "outputs": [
    {
     "name": "stdout",
     "output_type": "stream",
     "text": [
      "Полных дубликатов: 0, \n",
      " \"N/A\":\n",
      "date        0\n",
      "group       0\n",
      "visitors    0\n",
      "dtype: int64,\n",
      "\n",
      "уникальных значений: \n",
      "date        31\n",
      "group        2\n",
      "visitors    58\n",
      "dtype: int64\n",
      " Мин. выручка: 361, макс. выручка: 770\n"
     ]
    }
   ],
   "source": [
    "print('Полных дубликатов: {0}, \\n \"N/A\":\\n{1},\\n\\nуникальных значений: \\n{2}\\n Мин. выручка: {3}, макс. выручка: {4:_}'\n",
    "      .format(\n",
    "        visitors.duplicated().sum(),\n",
    "        visitors.isna().sum(),\n",
    "        visitors.nunique(),\n",
    "        visitors['visitors'].min(),  \n",
    "        visitors['visitors'].max()\n",
    "      )\n",
    ")"
   ]
  },
  {
   "cell_type": "code",
   "execution_count": 16,
   "metadata": {},
   "outputs": [
    {
     "name": "stdout",
     "output_type": "stream",
     "text": [
      "Минимальная дата: 2019-08-01, максимальная дата: 2019-08-31\n",
      "A    31\n",
      "B    31\n",
      "Name: group, dtype: int64\n"
     ]
    }
   ],
   "source": [
    "print('Минимальная дата: {0:%Y-%m-%d}, максимальная дата: {1:%Y-%m-%d}'\n",
    "      .format(visitors['date'].min(), visitors['date'].max()) )\n",
    "print(visitors['group'].value_counts())"
   ]
  },
  {
   "cell_type": "markdown",
   "metadata": {},
   "source": [
    "#### Задача 1. График кумулятивной выручки."
   ]
  },
  {
   "cell_type": "markdown",
   "metadata": {},
   "source": [
    "Формируем кумулятивные данные по дням по заказам."
   ]
  },
  {
   "cell_type": "code",
   "execution_count": 17,
   "metadata": {},
   "outputs": [
    {
     "name": "stdout",
     "output_type": "stream",
     "text": [
      "        date group  orders  buyers  revenue  visitors\n",
      "0 2019-08-01     A      23      19   142779       719\n",
      "1 2019-08-01     B      17      17    59758       713\n",
      "2 2019-08-02     A      42      36   234381      1338\n",
      "3 2019-08-02     B      40      39   221801      1294\n",
      "4 2019-08-03     A      66      60   346854      1845\n"
     ]
    }
   ],
   "source": [
    "# создаем массив уникальных пар значений дат и групп теста\n",
    "datesGroups = orders[['date','group']].drop_duplicates()\n",
    "\n",
    "#агрегируем по заказам\n",
    "ordersAggregated = datesGroups.apply(\n",
    "    lambda x: orders[np.logical_and(orders['date'] <= x['date'], orders['group'] == x['group'])]\n",
    "    .agg({'date' : 'max',\n",
    "          'group' : 'max',\n",
    "          'transaction_id' : 'nunique',\n",
    "          'visitor_id' : 'nunique',\n",
    "          'revenue' : 'sum'}),\n",
    "    axis=1).sort_values(by=['date','group'])\n",
    "\n",
    "#агрегированные кумулятивные по дням данные о посетителях\n",
    "visitorsAggregated = datesGroups.apply(\n",
    "    lambda x: visitors[np.logical_and(visitors['date'] <= x['date'], visitors['group'] == x['group'])]\n",
    "    .agg({'date' : 'max', 'group' : 'max', 'visitors' : 'sum'}),\n",
    "    axis=1).sort_values(by=['date','group'])\n",
    "\n",
    "# объединяем кумулятивные данные в одной таблице и присваиваем ее столбцам новые названия\n",
    "cumulativeData = ordersAggregated.merge(visitorsAggregated, left_on=['date', 'group'], right_on=['date', 'group'])\n",
    "cumulativeData.columns = ['date', 'group', 'orders', 'buyers', 'revenue', 'visitors']\n",
    "\n",
    "print(cumulativeData.head(5))"
   ]
  },
  {
   "cell_type": "markdown",
   "metadata": {},
   "source": [
    "Строим график кумулятивной выручки по датам по группам."
   ]
  },
  {
   "cell_type": "code",
   "execution_count": 18,
   "metadata": {},
   "outputs": [
    {
     "data": {
      "image/png": "[encoded data removed]",
      "text/plain": [
       "<Figure size 1008x432 with 1 Axes>"
      ]
     },
     "metadata": {
      "needs_background": "light"
     },
     "output_type": "display_data"
    }
   ],
   "source": [
    "# датафрейм с кумулятивным количеством заказов и кумулятивной выручкой по дням в группе А\n",
    "cumulativeRevenueA = cumulativeData[cumulativeData['group']=='A'][['date','revenue', 'orders']]\n",
    "\n",
    "# датафрейм с кумулятивным количеством заказов и кумулятивной выручкой по дням в группе B\n",
    "cumulativeRevenueB = cumulativeData[cumulativeData['group']=='B'][['date','revenue', 'orders']]\n",
    "\n",
    "fig = plt.figure(figsize = (14,6))\n",
    "\n",
    "ax = fig.add_subplot(1, 1, 1)\n",
    "ax.set_title('Кумулятивные выручки групп A и B')\n",
    "ax.set_ylabel('Кумулятивная выручка, млн. руб.')\n",
    "ax.set_xlabel('Даты')\n",
    "ax.grid(True)\n",
    "locator = mdates.DayLocator()\n",
    "formatter = mdates.ConciseDateFormatter(locator)\n",
    "ax.xaxis.set_major_locator(locator)\n",
    "ax.xaxis.set_major_formatter(formatter)\n",
    "yticks = np.arange(0, 6500000, 500000)\n",
    "ax.set_yticks(yticks)\n",
    "\n",
    "# Строим график выручки группы А\n",
    "plt.plot(cumulativeRevenueA['date'], cumulativeRevenueA['revenue'], label='A')\n",
    "\n",
    "# Строим график выручки группы B\n",
    "plt.plot(cumulativeRevenueB['date'], cumulativeRevenueB['revenue'], label='B')\n",
    "\n",
    "plt.legend();"
   ]
  },
  {
   "cell_type": "markdown",
   "metadata": {},
   "source": [
    "<b>Вывод:</b>\n",
    "\n",
    "Кумулятивная выручка постоянно растет по обеим группам. В целом, рост происходит схожими темпами, однако у группы B заметен сильный всплеск выучки 19.08.19. Это могло произойти либо изза необычного большого количества заказов в этот день, либо изза заказа с высоким чеком."
   ]
  },
  {
   "cell_type": "markdown",
   "metadata": {},
   "source": [
    "#### Задача 2. График кумулятивного среднего чека."
   ]
  },
  {
   "cell_type": "markdown",
   "metadata": {},
   "source": [
    "Размер среднего чека на дату считаем, как отношение кумулятивной выручки к кумулятивному числу заказов на эту дату. "
   ]
  },
  {
   "cell_type": "code",
   "execution_count": 19,
   "metadata": {},
   "outputs": [
    {
     "data": {
      "image/png": "[encoded data removed]",
      "text/plain": [
       "<Figure size 1008x432 with 1 Axes>"
      ]
     },
     "metadata": {
      "needs_background": "light"
     },
     "output_type": "display_data"
    }
   ],
   "source": [
    "\n",
    "fig = plt.figure(figsize = (14,6))\n",
    "\n",
    "ax = fig.add_subplot(1, 1, 1)\n",
    "ax.set_title('Кумулятивный средний чек за вемя теста')\n",
    "ax.set_ylabel('Кумулятивный средний чек, руб.')\n",
    "ax.set_xlabel('Даты')\n",
    "ax.grid(True)\n",
    "\n",
    "locator = mdates.DayLocator()\n",
    "formatter = mdates.ConciseDateFormatter(locator)\n",
    "ax.xaxis.set_major_locator(locator)\n",
    "ax.xaxis.set_major_formatter(formatter)\n",
    "yticks = np.arange(3500, 10500, 500)\n",
    "ax.set_yticks(yticks)\n",
    "\n",
    "plt.plot(cumulativeRevenueA['date'], cumulativeRevenueA['revenue']/cumulativeRevenueA['orders'], label='A')\n",
    "plt.plot(cumulativeRevenueB['date'], cumulativeRevenueB['revenue']/cumulativeRevenueB['orders'], label='B')\n",
    "plt.legend()\n",
    "plt.show();"
   ]
  },
  {
   "cell_type": "markdown",
   "metadata": {},
   "source": [
    "Видно, что в группе B  значительно увеличился средний чек 19 августа. И это была не типичная ситуация, так как далее кумулятивные данные начали снижаться за счет более низкиз средних чеков в последующие дни.\n",
    "\n",
    "Кроме того, в той же группе B  и до этого случались увеличения чека 2 августа, а также с 6 по 8, 15 августа.\n",
    "\n",
    "В группе A средний чек сначала снижался (причем значительно, поскольку мы из предыдущего графика знаем, что общая выручка росла). Но с 7 августа размер чека постоянно рос до 13 августа. Далее размер среднего чека постепенно стабилизировался."
   ]
  },
  {
   "cell_type": "markdown",
   "metadata": {},
   "source": [
    "#### Задача 3. График относительного между группами изменения кумулятивного среднего чека."
   ]
  },
  {
   "cell_type": "markdown",
   "metadata": {},
   "source": [
    "Размер среднего чека на дату считаем, как отношение кумулятивной выручки к кумулятивному числу заказов на эту дату. "
   ]
  },
  {
   "cell_type": "code",
   "execution_count": 20,
   "metadata": {},
   "outputs": [
    {
     "data": {
      "image/png": "[encoded data removed]",
      "text/plain": [
       "<Figure size 1008x432 with 1 Axes>"
      ]
     },
     "metadata": {
      "needs_background": "light"
     },
     "output_type": "display_data"
    }
   ],
   "source": [
    "# собираем данные в одном датафрейме\n",
    "mergedCumulativeRevenue = cumulativeRevenueA.merge(cumulativeRevenueB,\n",
    "                                                   left_on='date', right_on='date',\n",
    "                                                   how='left', suffixes=['A', 'B'])\n",
    "fig = plt.figure(figsize = (14,6)) \n",
    "\n",
    "ax = fig.add_subplot(1, 1, 1)\n",
    "ax.set_title('Относительное различие среднего чека гуппы B к чеку группы A (кумулятивных по датам)')\n",
    "ax.set_ylabel('Отношение чеков')\n",
    "ax.set_xlabel('Даты')\n",
    "ax.grid(True)\n",
    "\n",
    "locator = mdates.DayLocator()\n",
    "formatter = mdates.ConciseDateFormatter(locator)\n",
    "ax.xaxis.set_major_locator(locator)\n",
    "ax.xaxis.set_major_formatter(formatter)\n",
    "yticks = np.arange(-0.5, 0.6, 0.05)\n",
    "ax.set_yticks(yticks)\n",
    "\n",
    "\n",
    "# cтроим отношение средних чеков\n",
    "plt.plot(mergedCumulativeRevenue['date'],\n",
    "         (mergedCumulativeRevenue['revenueB']/\n",
    "          mergedCumulativeRevenue['ordersB'])/\n",
    "         (mergedCumulativeRevenue['revenueA']/\n",
    "          mergedCumulativeRevenue['ordersA'])-1)\n",
    "\n",
    "# добавляем ось X\n",
    "plt.axhline(y=0, color='black', linestyle='--');"
   ]
  },
  {
   "cell_type": "markdown",
   "metadata": {},
   "source": [
    "Изначально средний чек у группы A был выше.Затем большую часть времени кумулятивный средний чек группы B был выше, чем у группы A. \n",
    "\n",
    "Исключение составляет период с 12 по 15 августа.\n",
    "\n",
    "Последние 3 дня соотношение было приблизительно постоянным."
   ]
  },
  {
   "cell_type": "markdown",
   "metadata": {},
   "source": [
    "Первый пик обусловлен тем, что еще не были накоплены суммарные данные и любые значения, отличные от предыдущих, имели более сильное влияние на форму графика (кумулятивное значение), к тому же, у группы B в это время постепенно увеличивался средний чек, а у группы A уменьшался, что еще больше усилило наклон графика относительного различия."
   ]
  },
  {
   "cell_type": "markdown",
   "metadata": {},
   "source": [
    "#### Задача 4. График кумулятивного среднего количества заказов на посетителя."
   ]
  },
  {
   "cell_type": "markdown",
   "metadata": {},
   "source": [
    "Размер среднего чека на дату считаем, как отношение кумулятивной выручки к кумулятивному числу заказов на эту дату. "
   ]
  },
  {
   "cell_type": "code",
   "execution_count": 21,
   "metadata": {},
   "outputs": [
    {
     "data": {
      "image/png": "[encoded data removed]",
      "text/plain": [
       "<Figure size 1008x432 with 1 Axes>"
      ]
     },
     "metadata": {
      "needs_background": "light"
     },
     "output_type": "display_data"
    }
   ],
   "source": [
    "# считаем среднее количество заказов на посетителя\n",
    "cumulativeData['conversion'] = cumulativeData['orders']/cumulativeData['visitors']\n",
    "\n",
    "# отделяем данные по группе A\n",
    "cumulativeDataA = cumulativeData[cumulativeData['group']=='A']\n",
    "\n",
    "# отделяем данные по группе B\n",
    "cumulativeDataB = cumulativeData[cumulativeData['group']=='B']\n",
    "\n",
    "fig = plt.figure(figsize = (14,6)) \n",
    "\n",
    "ax = fig.add_subplot(1, 1, 1)\n",
    "ax.set_title('Кумулятивное среднее количество заказов на посетителя по группам')\n",
    "ax.set_ylabel('количество заказов на посетителя')\n",
    "ax.set_xlabel('Даты')\n",
    "ax.grid(True)\n",
    "\n",
    "locator = mdates.DayLocator()\n",
    "formatter = mdates.ConciseDateFormatter(locator)\n",
    "ax.xaxis.set_major_locator(locator)\n",
    "ax.xaxis.set_major_formatter(formatter)\n",
    "yticks = np.arange(0.02, 0.038, 0.0005)\n",
    "ax.set_yticks(yticks)\n",
    "\n",
    "\n",
    "\n",
    "# строим графики\n",
    "plt.plot(cumulativeDataA['date'], cumulativeDataA['conversion'], label='A')\n",
    "plt.plot(cumulativeDataB['date'], cumulativeDataB['conversion'], label='B')\n",
    "plt.legend();\n",
    "\n"
   ]
  },
  {
   "cell_type": "markdown",
   "metadata": {},
   "source": [
    "Видим вначале значительные колебания конверсии, что говорит о том, что периоды одинаковой конверсии не постоянны, а уровень конверсии постоянно меняется, однако со временем при кумулятивном рассмотрении эти неравномерности сглаживаются.\n",
    "\n",
    "Соответственно, постепенно становится хорошо заметно установление у групп A и B стабильно разных значений конверсии. "
   ]
  },
  {
   "cell_type": "markdown",
   "metadata": {},
   "source": [
    "#### Задача 5. График относительного изменения кумулятивного среднего количества заказов на посетителя"
   ]
  },
  {
   "cell_type": "markdown",
   "metadata": {},
   "source": [
    "Расчитываем и строим график относительного изменения кумулятивного среднего количества заказов на посетителя группы B к группе A."
   ]
  },
  {
   "cell_type": "code",
   "execution_count": 22,
   "metadata": {},
   "outputs": [
    {
     "data": {
      "image/png": "[encoded data removed]",
      "text/plain": [
       "<Figure size 1008x432 with 1 Axes>"
      ]
     },
     "metadata": {
      "needs_background": "light"
     },
     "output_type": "display_data"
    }
   ],
   "source": [
    "mergedCumulativeConversions = cumulativeDataA[['date','conversion']].merge(\n",
    "    cumulativeDataB[['date','conversion']],\n",
    "    left_on='date', right_on='date',\n",
    "    how='left', suffixes=['A', 'B'])\n",
    "\n",
    "fig = plt.figure(figsize = (14,6)) \n",
    "\n",
    "ax = fig.add_subplot(1, 1, 1)\n",
    "ax.set_title('Относительное изменение кумулятивного среднего количества заказов на посетителя группы B к группе A')\n",
    "ax.set_ylabel('Отношение кумулятивного числа заказов')\n",
    "ax.set_xlabel('Даты')\n",
    "ax.grid(True)\n",
    "\n",
    "locator = mdates.DayLocator()\n",
    "formatter = mdates.ConciseDateFormatter(locator)\n",
    "ax.xaxis.set_major_locator(locator)\n",
    "ax.xaxis.set_major_formatter(formatter)\n",
    "yticks = np.arange(-0.3, 0.25, 0.05)\n",
    "ax.set_yticks(yticks)\n",
    "\n",
    "\n",
    "\n",
    "plt.plot(mergedCumulativeConversions['date'],\n",
    "         mergedCumulativeConversions['conversionB']/mergedCumulativeConversions['conversionA']-1)\n",
    "\n",
    "plt.axhline(y=0, color='black', linestyle='--')\n",
    "plt.axhline(y=-0.1, color='grey', linestyle='--');"
   ]
  },
  {
   "cell_type": "markdown",
   "metadata": {},
   "source": [
    "Видно, что начиная с 6 августа количество заказов в группе B начинает значительно расти и постепенно, по мере накопления суммарных значений, закрепляется превосходящее количество заказов на посетителя в группе B по отношению к группе A.\n",
    "\n",
    "В начале заметно преобдадание количество заказов у группы A, но это были локальные всплески, которые впоследствии нивелировались общими суммарными занчениями."
   ]
  },
  {
   "cell_type": "markdown",
   "metadata": {},
   "source": [
    "#### Задача 6. Точечный график количества заказов по пользователям."
   ]
  },
  {
   "cell_type": "code",
   "execution_count": 23,
   "metadata": {},
   "outputs": [
    {
     "name": "stdout",
     "output_type": "stream",
     "text": [
      "     visitor_id  orders\n",
      "908  3967698036       3\n",
      "55    249864742       3\n",
      "478  2108163459       3\n",
      "687  2988190573       3\n",
      "890  3908431265       3\n",
      "138   611059232       3\n",
      "632  2742574263       3\n",
      "157   678354126       2\n",
      "323  1404560065       2\n",
      "452  1985475298       2\n"
     ]
    }
   ],
   "source": [
    "ordersByUsers = (\n",
    "    orders.groupby('visitor_id', as_index=False)\n",
    "    .agg({'transaction_id': 'nunique'})\n",
    ")\n",
    "\n",
    "ordersByUsers.columns = ['visitor_id', 'orders']\n",
    "print(ordersByUsers.sort_values(by='orders', ascending=False).head(10))"
   ]
  },
  {
   "cell_type": "code",
   "execution_count": 24,
   "metadata": {},
   "outputs": [
    {
     "data": {
      "image/png": "[encoded data removed]",
      "text/plain": [
       "<Figure size 1008x432 with 1 Axes>"
      ]
     },
     "metadata": {
      "needs_background": "light"
     },
     "output_type": "display_data"
    }
   ],
   "source": [
    "x_values = pd.Series(range(0,len(ordersByUsers)))\n",
    "\n",
    "fig = plt.figure(figsize = (14,6)) \n",
    "\n",
    "ax = fig.add_subplot(1, 1, 1)\n",
    "ax.set_title('Точечный график числа заказов на одного пользователя')\n",
    "ax.set_ylabel('Число заказов на пользователя')\n",
    "ax.set_xlabel('Номер пользователя')\n",
    "ax.grid(True)\n",
    "\n",
    "yticks = np.arange(0, 12, 1)\n",
    "ax.set_yticks(yticks)\n",
    "\n",
    "\n",
    "plt.scatter(x_values, ordersByUsers['orders']);"
   ]
  },
  {
   "cell_type": "markdown",
   "metadata": {},
   "source": [
    "Из графика видно, что основное количество заказов на пользователя составляет от 1 до 3. С количеством заказов выше - уже единичное число пользователей."
   ]
  },
  {
   "cell_type": "markdown",
   "metadata": {},
   "source": [
    "#### Задача 7. Перцентили количества заказов на пользователя."
   ]
  },
  {
   "cell_type": "code",
   "execution_count": 25,
   "metadata": {},
   "outputs": [
    {
     "name": "stdout",
     "output_type": "stream",
     "text": [
      "Число заказов на пользователя на 95-ом перцентиле выборки: 1, на 99-ом перцентиле: 2.\n"
     ]
    }
   ],
   "source": [
    "opu_p95, opu_p99 = np.percentile(ordersByUsers['orders'], [95, 99])\n",
    "print('Число заказов на пользователя на 95-ом перцентиле выборки: {0}, на 99-ом перцентиле: {1}.'.format(int(opu_p95), int(opu_p99)))"
   ]
  },
  {
   "cell_type": "code",
   "execution_count": 26,
   "metadata": {},
   "outputs": [
    {
     "data": {
      "image/png": "[encoded data removed]",
      "text/plain": [
       "<Figure size 1008x432 with 1 Axes>"
      ]
     },
     "metadata": {
      "needs_background": "light"
     },
     "output_type": "display_data"
    }
   ],
   "source": [
    "x_values = pd.Series(range(0,len(ordersByUsers)))\n",
    "\n",
    "fig = plt.figure(figsize = (14,6)) \n",
    "\n",
    "ax = fig.add_subplot(1, 1, 1)\n",
    "ax.set_title('Точечный график числа заказов на одного пользователя')\n",
    "ax.set_ylabel('Число заказов на пользователя')\n",
    "ax.set_xlabel('Номер пользователя')\n",
    "ax.grid(True)\n",
    "\n",
    "yticks = np.arange(0, 12, 1)\n",
    "ax.set_yticks(yticks)\n",
    "\n",
    "plt.axhline(y=opu_p95, color='red', linestyle='--')\n",
    "plt.axhline(y=opu_p99, color='red', linestyle='--')\n",
    "\n",
    "plt.scatter(x_values, ordersByUsers['orders']);"
   ]
  },
  {
   "cell_type": "markdown",
   "metadata": {},
   "source": [
    "Границу учета установим на уровне 95-го перцентиля в 2 заказа на пользователя. Пользователей с 3-мя заказами уже учитывать не будем."
   ]
  },
  {
   "cell_type": "markdown",
   "metadata": {},
   "source": [
    "#### Задача 8. Точечный график стоимостей заказов"
   ]
  },
  {
   "cell_type": "code",
   "execution_count": 27,
   "metadata": {
    "scrolled": false
   },
   "outputs": [
    {
     "data": {
      "image/png": "[encoded data removed]",
      "text/plain": [
       "<Figure size 1008x432 with 1 Axes>"
      ]
     },
     "metadata": {
      "needs_background": "light"
     },
     "output_type": "display_data"
    }
   ],
   "source": [
    "x_values = pd.Series(range(0,len(orders['revenue'])))\n",
    "\n",
    "fig = plt.figure(figsize = (14,6)) \n",
    "\n",
    "ax = fig.add_subplot(1, 1, 1)\n",
    "ax.set_title('Точечный график стоимостей заказов')\n",
    "ax.set_ylabel('Стоимости заказов, млн. руб.')\n",
    "ax.set_xlabel('Номера заказов')\n",
    "ax.grid(True)\n",
    "\n",
    "yticks = np.arange(0, 1400000, 100000)\n",
    "ax.set_yticks(yticks)\n",
    "\n",
    "plt.scatter(x_values, orders['revenue']);"
   ]
  },
  {
   "cell_type": "markdown",
   "metadata": {},
   "source": [
    "Для наглядности используем логарифмическую шкалу по вертикали."
   ]
  },
  {
   "cell_type": "code",
   "execution_count": 28,
   "metadata": {},
   "outputs": [
    {
     "data": {
      "image/png": "[encoded data removed]",
      "text/plain": [
       "<Figure size 1008x432 with 1 Axes>"
      ]
     },
     "metadata": {
      "needs_background": "light"
     },
     "output_type": "display_data"
    }
   ],
   "source": [
    "x_values = pd.Series(range(0,len(orders['revenue'])))\n",
    "\n",
    "fig = plt.figure(figsize = (14,6)) \n",
    "\n",
    "ax = fig.add_subplot(1, 1, 1)\n",
    "ax.set_title('Точечный график стоимостей заказов')\n",
    "ax.set_ylabel('Стоимости заказов, руб.')\n",
    "ax.set_xlabel('Номера заказов')\n",
    "ax.grid(True)\n",
    "\n",
    "plt.yscale('log')\n",
    "\n",
    "plt.scatter(x_values, orders['revenue']);"
   ]
  },
  {
   "cell_type": "markdown",
   "metadata": {},
   "source": [
    "Точечный график стоимостей заказов с линейной шкалой и с исключением максимального выброса. "
   ]
  },
  {
   "cell_type": "code",
   "execution_count": 29,
   "metadata": {
    "scrolled": false
   },
   "outputs": [
    {
     "data": {
      "image/png": "[encoded data removed]",
      "text/plain": [
       "<Figure size 1008x432 with 1 Axes>"
      ]
     },
     "metadata": {
      "needs_background": "light"
     },
     "output_type": "display_data"
    }
   ],
   "source": [
    "x_values = pd.Series(range(0,len(orders['revenue'])))\n",
    "\n",
    "fig = plt.figure(figsize = (14,6)) \n",
    "\n",
    "ax = fig.add_subplot(1, 1, 1)\n",
    "ax.set_title('Точечный график стоимостей заказов')\n",
    "ax.set_ylabel('Стоимости заказов, млн. руб.')\n",
    "ax.set_xlabel('Номера заказов')\n",
    "ax.grid(True)\n",
    "\n",
    "yticks = np.arange(0, 100000, 10000)\n",
    "ax.set_yticks(yticks)\n",
    "plt.ylim([0, 100000])\n",
    "\n",
    "plt.scatter(x_values, orders['revenue']);"
   ]
  },
  {
   "cell_type": "markdown",
   "metadata": {},
   "source": [
    "В основном, стоимость всех заказов не превышает 100 000 руб. Заметны лишь два выброса, превышающих эти значения. "
   ]
  },
  {
   "cell_type": "markdown",
   "metadata": {},
   "source": [
    "#### Задача 9. Перцентили стоимости заказов."
   ]
  },
  {
   "cell_type": "code",
   "execution_count": 30,
   "metadata": {},
   "outputs": [
    {
     "name": "stdout",
     "output_type": "stream",
     "text": [
      "Стоимость заказа на 95-ом перцентиле выборки: 26785.00, на 99-ом перцентиле: 53904.00.\n"
     ]
    }
   ],
   "source": [
    "oc_p95, oc_p99 = np.percentile(orders['revenue'], [95, 99])\n",
    "print('Стоимость заказа на 95-ом перцентиле выборки: {0:0.2f}, на 99-ом перцентиле: {1:0.2f}.'.format(oc_p95, oc_p99))"
   ]
  },
  {
   "cell_type": "code",
   "execution_count": 31,
   "metadata": {
    "scrolled": false
   },
   "outputs": [
    {
     "data": {
      "image/png": "[encoded data removed]",
      "text/plain": [
       "<Figure size 1008x432 with 1 Axes>"
      ]
     },
     "metadata": {
      "needs_background": "light"
     },
     "output_type": "display_data"
    }
   ],
   "source": [
    "x_values = pd.Series(range(0,len(orders['revenue'])))\n",
    "\n",
    "fig = plt.figure(figsize = (14,6)) \n",
    "\n",
    "ax = fig.add_subplot(1, 1, 1)\n",
    "ax.set_title('Точечный график стоимостей заказов')\n",
    "ax.set_ylabel('Стоимости заказов, руб.')\n",
    "ax.set_xlabel('Номера заказов')\n",
    "ax.grid(True)\n",
    "\n",
    "plt.yscale('log')\n",
    "\n",
    "plt.axhline(y=oc_p95, color='red', linestyle='--')\n",
    "plt.axhline(y=oc_p99, color='red', linestyle='--')\n",
    "\n",
    "plt.scatter(x_values, orders['revenue']);"
   ]
  },
  {
   "cell_type": "markdown",
   "metadata": {},
   "source": [
    "Границу учета установим на уровне 95-го перцентиля в 26785 рублей, заказы с большей стоимостью учитывать не будем."
   ]
  },
  {
   "cell_type": "code",
   "execution_count": 32,
   "metadata": {
    "scrolled": false
   },
   "outputs": [
    {
     "data": {
      "image/png": "[encoded data removed]",
      "text/plain": [
       "<Figure size 1008x432 with 1 Axes>"
      ]
     },
     "metadata": {
      "needs_background": "light"
     },
     "output_type": "display_data"
    }
   ],
   "source": [
    "x_values = pd.Series(range(0,len(orders['revenue'])))\n",
    "\n",
    "fig = plt.figure(figsize = (14,6)) \n",
    "\n",
    "ax = fig.add_subplot(1, 1, 1)\n",
    "ax.set_title('Точечный график стоимостей заказов')\n",
    "ax.set_ylabel('Стоимости заказов, млн. руб.')\n",
    "ax.set_xlabel('Номера заказов')\n",
    "ax.grid(True)\n",
    "\n",
    "yticks = np.arange(0, 100000, 10000)\n",
    "ax.set_yticks(yticks)\n",
    "plt.ylim([0, 100000])\n",
    "\n",
    "plt.axhline(y=oc_p95, color='red', linestyle='--')\n",
    "plt.axhline(y=oc_p99, color='red', linestyle='--')\n",
    "\n",
    "plt.scatter(x_values, orders['revenue']);"
   ]
  },
  {
   "cell_type": "markdown",
   "metadata": {},
   "source": [
    "#### Задача 10. Cтатистическая значимость различий в среднем  количестве заказов на посетителя по \"сырым\" данным"
   ]
  },
  {
   "cell_type": "code",
   "execution_count": 33,
   "metadata": {
    "scrolled": true
   },
   "outputs": [
    {
     "data": {
      "text/html": [
       "<table border=\"1\" class=\"dataframe\">\n",
       "  <thead>\n",
       "    <tr style=\"text-align: right;\">\n",
       "      <th></th>\n",
       "      <th>date</th>\n",
       "      <th>ordersPerDateA</th>\n",
       "      <th>revenuePerDateA</th>\n",
       "      <th>ordersPerDateB</th>\n",
       "      <th>revenuePerDateB</th>\n",
       "      <th>ordersCummulativeA</th>\n",
       "      <th>revenueCummulativeA</th>\n",
       "      <th>ordersCummulativeB</th>\n",
       "      <th>revenueCummulativeB</th>\n",
       "      <th>visitorsPerDateA</th>\n",
       "      <th>visitorsPerDateB</th>\n",
       "      <th>visitorsCummulativeA</th>\n",
       "      <th>visitorsCummulativeB</th>\n",
       "    </tr>\n",
       "  </thead>\n",
       "  <tbody>\n",
       "    <tr>\n",
       "      <th>0</th>\n",
       "      <td>2019-08-01</td>\n",
       "      <td>23</td>\n",
       "      <td>142779</td>\n",
       "      <td>17</td>\n",
       "      <td>59758</td>\n",
       "      <td>23</td>\n",
       "      <td>142779</td>\n",
       "      <td>17</td>\n",
       "      <td>59758</td>\n",
       "      <td>719</td>\n",
       "      <td>713</td>\n",
       "      <td>719</td>\n",
       "      <td>713</td>\n",
       "    </tr>\n",
       "    <tr>\n",
       "      <th>1</th>\n",
       "      <td>2019-08-02</td>\n",
       "      <td>19</td>\n",
       "      <td>91602</td>\n",
       "      <td>22</td>\n",
       "      <td>162043</td>\n",
       "      <td>42</td>\n",
       "      <td>234381</td>\n",
       "      <td>39</td>\n",
       "      <td>221801</td>\n",
       "      <td>619</td>\n",
       "      <td>581</td>\n",
       "      <td>1338</td>\n",
       "      <td>1294</td>\n",
       "    </tr>\n",
       "    <tr>\n",
       "      <th>2</th>\n",
       "      <td>2019-08-03</td>\n",
       "      <td>24</td>\n",
       "      <td>112473</td>\n",
       "      <td>14</td>\n",
       "      <td>67049</td>\n",
       "      <td>66</td>\n",
       "      <td>346854</td>\n",
       "      <td>53</td>\n",
       "      <td>288850</td>\n",
       "      <td>507</td>\n",
       "      <td>509</td>\n",
       "      <td>1845</td>\n",
       "      <td>1803</td>\n",
       "    </tr>\n",
       "    <tr>\n",
       "      <th>3</th>\n",
       "      <td>2019-08-04</td>\n",
       "      <td>11</td>\n",
       "      <td>41176</td>\n",
       "      <td>13</td>\n",
       "      <td>96890</td>\n",
       "      <td>77</td>\n",
       "      <td>388030</td>\n",
       "      <td>66</td>\n",
       "      <td>385740</td>\n",
       "      <td>717</td>\n",
       "      <td>770</td>\n",
       "      <td>2562</td>\n",
       "      <td>2573</td>\n",
       "    </tr>\n",
       "    <tr>\n",
       "      <th>4</th>\n",
       "      <td>2019-08-05</td>\n",
       "      <td>22</td>\n",
       "      <td>86383</td>\n",
       "      <td>21</td>\n",
       "      <td>89908</td>\n",
       "      <td>99</td>\n",
       "      <td>474413</td>\n",
       "      <td>87</td>\n",
       "      <td>475648</td>\n",
       "      <td>756</td>\n",
       "      <td>707</td>\n",
       "      <td>3318</td>\n",
       "      <td>3280</td>\n",
       "    </tr>\n",
       "  </tbody>\n",
       "</table>"
      ],
      "text/plain": [
       "<IPython.core.display.HTML object>"
      ]
     },
     "execution_count": 33,
     "metadata": {},
     "output_type": "execute_result"
    }
   ],
   "source": [
    "visitorsADaily = visitors[visitors['group'] == 'A'][['date', 'visitors']]\n",
    "visitorsADaily.columns = ['date', 'visitorsPerDateA']\n",
    "\n",
    "visitorsACummulative = visitorsADaily.apply(\n",
    "    lambda x: visitorsADaily[visitorsADaily['date'] <= x['date']].agg(\n",
    "        {'date': 'max', 'visitorsPerDateA': 'sum'}\n",
    "    ),\n",
    "    axis=1,\n",
    ")\n",
    "visitorsACummulative.columns = ['date', 'visitorsCummulativeA']\n",
    "\n",
    "visitorsBDaily = visitors[visitors['group'] == 'B'][['date', 'visitors']]\n",
    "visitorsBDaily.columns = ['date', 'visitorsPerDateB']\n",
    "\n",
    "visitorsBCummulative = visitorsBDaily.apply(\n",
    "    lambda x: visitorsBDaily[visitorsBDaily['date'] <= x['date']].agg(\n",
    "        {'date': 'max', 'visitorsPerDateB': 'sum'}\n",
    "    ),\n",
    "    axis=1,\n",
    ")\n",
    "visitorsBCummulative.columns = ['date', 'visitorsCummulativeB']\n",
    "\n",
    "ordersADaily = (\n",
    "    orders[orders['group'] == 'A'][['date', 'transaction_id', 'visitor_id', 'revenue']]\n",
    "    .groupby('date', as_index=False)\n",
    "    .agg({'transaction_id': pd.Series.nunique, 'revenue': 'sum'})\n",
    ")\n",
    "ordersADaily.columns = ['date', 'ordersPerDateA', 'revenuePerDateA']\n",
    "\n",
    "ordersACummulative = ordersADaily.apply(\n",
    "    lambda x: ordersADaily[ordersADaily['date'] <= x['date']].agg(\n",
    "        {'date': 'max', 'ordersPerDateA': 'sum', 'revenuePerDateA': 'sum'}\n",
    "    ),\n",
    "    axis=1,\n",
    ").sort_values(by=['date'])\n",
    "ordersACummulative.columns = [\n",
    "    'date',\n",
    "    'ordersCummulativeA',\n",
    "    'revenueCummulativeA',\n",
    "]\n",
    "\n",
    "ordersBDaily = (\n",
    "    orders[orders['group'] == 'B'][['date', 'transaction_id', 'visitor_id', 'revenue']]\n",
    "    .groupby('date', as_index=False)\n",
    "    .agg({'visitor_id': pd.Series.nunique, 'revenue': 'sum'})\n",
    ")\n",
    "ordersBDaily.columns = ['date', 'ordersPerDateB', 'revenuePerDateB']\n",
    "\n",
    "ordersBCummulative = ordersBDaily.apply(\n",
    "    lambda x: ordersBDaily[ordersBDaily['date'] <= x['date']].agg(\n",
    "        {'date': 'max', 'ordersPerDateB': 'sum', 'revenuePerDateB': 'sum'}\n",
    "    ),\n",
    "    axis=1,\n",
    ").sort_values(by=['date'])\n",
    "ordersBCummulative.columns = [\n",
    "    'date',\n",
    "    'ordersCummulativeB',\n",
    "    'revenueCummulativeB',\n",
    "]\n",
    "\n",
    "data = (\n",
    "    ordersADaily.merge(\n",
    "        ordersBDaily, left_on='date', right_on='date', how='left'\n",
    "    )\n",
    "    .merge(ordersACummulative, left_on='date', right_on='date', how='left')\n",
    "    .merge(ordersBCummulative, left_on='date', right_on='date', how='left')\n",
    "    .merge(visitorsADaily, left_on='date', right_on='date', how='left')\n",
    "    .merge(visitorsBDaily, left_on='date', right_on='date', how='left')\n",
    "    .merge(visitorsACummulative, left_on='date', right_on='date', how='left')\n",
    "    .merge(visitorsBCummulative, left_on='date', right_on='date', how='left')\n",
    ")\n",
    "\n",
    "HTML(data.head().to_html())"
   ]
  },
  {
   "cell_type": "code",
   "execution_count": 34,
   "metadata": {},
   "outputs": [
    {
     "data": {
      "text/html": [
       "<div>\n",
       "<style scoped>\n",
       "    .dataframe tbody tr th:only-of-type {\n",
       "        vertical-align: middle;\n",
       "    }\n",
       "\n",
       "    .dataframe tbody tr th {\n",
       "        vertical-align: top;\n",
       "    }\n",
       "\n",
       "    .dataframe thead th {\n",
       "        text-align: right;\n",
       "    }\n",
       "</style>\n",
       "<table border=\"1\" class=\"dataframe\">\n",
       "  <thead>\n",
       "    <tr style=\"text-align: right;\">\n",
       "      <th></th>\n",
       "      <th>date</th>\n",
       "      <th>group</th>\n",
       "      <th>orders</th>\n",
       "      <th>buyers</th>\n",
       "      <th>revenue</th>\n",
       "      <th>visitors</th>\n",
       "      <th>conversion</th>\n",
       "    </tr>\n",
       "  </thead>\n",
       "  <tbody>\n",
       "    <tr>\n",
       "      <th>0</th>\n",
       "      <td>2019-08-01</td>\n",
       "      <td>A</td>\n",
       "      <td>23</td>\n",
       "      <td>19</td>\n",
       "      <td>142779</td>\n",
       "      <td>719</td>\n",
       "      <td>0.031989</td>\n",
       "    </tr>\n",
       "    <tr>\n",
       "      <th>1</th>\n",
       "      <td>2019-08-01</td>\n",
       "      <td>B</td>\n",
       "      <td>17</td>\n",
       "      <td>17</td>\n",
       "      <td>59758</td>\n",
       "      <td>713</td>\n",
       "      <td>0.023843</td>\n",
       "    </tr>\n",
       "    <tr>\n",
       "      <th>2</th>\n",
       "      <td>2019-08-02</td>\n",
       "      <td>A</td>\n",
       "      <td>42</td>\n",
       "      <td>36</td>\n",
       "      <td>234381</td>\n",
       "      <td>1338</td>\n",
       "      <td>0.031390</td>\n",
       "    </tr>\n",
       "    <tr>\n",
       "      <th>3</th>\n",
       "      <td>2019-08-02</td>\n",
       "      <td>B</td>\n",
       "      <td>40</td>\n",
       "      <td>39</td>\n",
       "      <td>221801</td>\n",
       "      <td>1294</td>\n",
       "      <td>0.030912</td>\n",
       "    </tr>\n",
       "    <tr>\n",
       "      <th>4</th>\n",
       "      <td>2019-08-03</td>\n",
       "      <td>A</td>\n",
       "      <td>66</td>\n",
       "      <td>60</td>\n",
       "      <td>346854</td>\n",
       "      <td>1845</td>\n",
       "      <td>0.035772</td>\n",
       "    </tr>\n",
       "    <tr>\n",
       "      <th>...</th>\n",
       "      <td>...</td>\n",
       "      <td>...</td>\n",
       "      <td>...</td>\n",
       "      <td>...</td>\n",
       "      <td>...</td>\n",
       "      <td>...</td>\n",
       "      <td>...</td>\n",
       "    </tr>\n",
       "    <tr>\n",
       "      <th>57</th>\n",
       "      <td>2019-08-29</td>\n",
       "      <td>B</td>\n",
       "      <td>510</td>\n",
       "      <td>490</td>\n",
       "      <td>4746610</td>\n",
       "      <td>17708</td>\n",
       "      <td>0.028801</td>\n",
       "    </tr>\n",
       "    <tr>\n",
       "      <th>58</th>\n",
       "      <td>2019-08-30</td>\n",
       "      <td>A</td>\n",
       "      <td>460</td>\n",
       "      <td>437</td>\n",
       "      <td>3311413</td>\n",
       "      <td>18037</td>\n",
       "      <td>0.025503</td>\n",
       "    </tr>\n",
       "    <tr>\n",
       "      <th>59</th>\n",
       "      <td>2019-08-30</td>\n",
       "      <td>B</td>\n",
       "      <td>531</td>\n",
       "      <td>511</td>\n",
       "      <td>4955833</td>\n",
       "      <td>18198</td>\n",
       "      <td>0.029179</td>\n",
       "    </tr>\n",
       "    <tr>\n",
       "      <th>60</th>\n",
       "      <td>2019-08-31</td>\n",
       "      <td>A</td>\n",
       "      <td>468</td>\n",
       "      <td>445</td>\n",
       "      <td>3364656</td>\n",
       "      <td>18736</td>\n",
       "      <td>0.024979</td>\n",
       "    </tr>\n",
       "    <tr>\n",
       "      <th>61</th>\n",
       "      <td>2019-08-31</td>\n",
       "      <td>B</td>\n",
       "      <td>548</td>\n",
       "      <td>528</td>\n",
       "      <td>5068972</td>\n",
       "      <td>18916</td>\n",
       "      <td>0.028970</td>\n",
       "    </tr>\n",
       "  </tbody>\n",
       "</table>\n",
       "<p>62 rows × 7 columns</p>\n",
       "</div>"
      ],
      "text/plain": [
       "         date group  orders  buyers  revenue  visitors  conversion\n",
       "0  2019-08-01     A      23      19   142779       719    0.031989\n",
       "1  2019-08-01     B      17      17    59758       713    0.023843\n",
       "2  2019-08-02     A      42      36   234381      1338    0.031390\n",
       "3  2019-08-02     B      40      39   221801      1294    0.030912\n",
       "4  2019-08-03     A      66      60   346854      1845    0.035772\n",
       "..        ...   ...     ...     ...      ...       ...         ...\n",
       "57 2019-08-29     B     510     490  4746610     17708    0.028801\n",
       "58 2019-08-30     A     460     437  3311413     18037    0.025503\n",
       "59 2019-08-30     B     531     511  4955833     18198    0.029179\n",
       "60 2019-08-31     A     468     445  3364656     18736    0.024979\n",
       "61 2019-08-31     B     548     528  5068972     18916    0.028970\n",
       "\n",
       "[62 rows x 7 columns]"
      ]
     },
     "execution_count": 34,
     "metadata": {},
     "output_type": "execute_result"
    }
   ],
   "source": [
    "cumulativeData"
   ]
  },
  {
   "cell_type": "code",
   "execution_count": 35,
   "metadata": {
    "scrolled": false
   },
   "outputs": [
    {
     "data": {
      "image/png": "[encoded data removed]",
      "text/plain": [
       "<Figure size 1008x432 with 1 Axes>"
      ]
     },
     "metadata": {
      "needs_background": "light"
     },
     "output_type": "display_data"
    }
   ],
   "source": [
    "x_values = pd.Series(range(0,len(orders['revenue'])))\n",
    "\n",
    "fig = plt.figure(figsize = (14,6)) \n",
    "\n",
    "ax = fig.add_subplot(1, 1, 1)\n",
    "ax.set_title('Точечный график стоимостей заказов')\n",
    "ax.set_ylabel('Стоимости заказов, млн. руб.')\n",
    "ax.set_xlabel('Номера заказов')\n",
    "ax.grid(True)\n",
    "\n",
    "yticks = np.arange(0, 100000, 10000)\n",
    "ax.set_yticks(yticks)\n",
    "plt.ylim([0, 100000])\n",
    "\n",
    "plt.scatter(x_values, orders['revenue']);"
   ]
  },
  {
   "cell_type": "code",
   "execution_count": 36,
   "metadata": {
    "scrolled": false
   },
   "outputs": [
    {
     "data": {
      "image/png": "[encoded data removed]",
      "text/plain": [
       "<Figure size 1008x432 with 1 Axes>"
      ]
     },
     "metadata": {
      "needs_background": "light"
     },
     "output_type": "display_data"
    }
   ],
   "source": [
    "x_values = pd.Series(range(0,len(orders['revenue'])))\n",
    "\n",
    "fig = plt.figure(figsize = (14,6)) \n",
    "\n",
    "ax = fig.add_subplot(1, 1, 1)\n",
    "ax.set_title('Точечный график стоимостей заказов')\n",
    "ax.set_ylabel('Стоимости заказов, млн. руб.')\n",
    "ax.set_xlabel('Номера заказов')\n",
    "ax.grid(True)\n",
    "\n",
    "yticks = np.arange(0, 100000, 10000)\n",
    "ax.set_yticks(yticks)\n",
    "plt.ylim([0, 100000])\n",
    "\n",
    "plt.scatter(x_values, orders['revenue']);"
   ]
  },
  {
   "cell_type": "markdown",
   "metadata": {},
   "source": [
    "Проверим гипотезу $H_0$ - среднее количество заказов на посетителя не изменилось.\n",
    "\n",
    "Альтернативная гипотеза $H_1$ - среднее количество заказов на пользователя увеличилось.\n",
    "\n",
    "Уровень значимости $\\alpha$ = 0.05 (5%)"
   ]
  },
  {
   "cell_type": "code",
   "execution_count": null,
   "metadata": {},
   "outputs": [],
   "source": [
    "ordersByUsersA = (\n",
    "    orders[orders['group'] == 'A']\n",
    "    .groupby('visitor_id', as_index=False)\n",
    "    .agg({'transaction_id': pd.Series.nunique})\n",
    ")\n",
    "ordersByUsersA.columns = ['visitor_id', 'orders']\n",
    "\n",
    "ordersByUsersB = (\n",
    "    orders[orders['group'] == 'B']\n",
    "    .groupby('visitor_id', as_index=False)\n",
    "    .agg({'transaction_id': pd.Series.nunique})\n",
    ")\n",
    "ordersByUsersB.columns = ['visitor_id', 'orders']"
   ]
  },
  {
   "cell_type": "markdown",
   "metadata": {},
   "source": [
    "Подготовим выборки к проверке критерием Манна-Уитни: объединим для каждой группы списки с количеством заказов для каждого из пользователей и списки нулей для пользователей, которые ничего не заказывали."
   ]
  },
  {
   "cell_type": "code",
   "execution_count": 38,
   "metadata": {},
   "outputs": [],
   "source": [
    "sampleA = pd.concat(\n",
    "    [\n",
    "        ordersByUsersA['orders'],\n",
    "        pd.Series(\n",
    "            0,\n",
    "            index=np.arange(\n",
    "                data['visitorsPerDateA'].sum() - len(ordersByUsersA['orders'])\n",
    "            ),\n",
    "            name='orders',\n",
    "        ),\n",
    "    ],\n",
    "    axis=0,\n",
    ")\n",
    "\n",
    "sampleB = pd.concat(\n",
    "    [\n",
    "        ordersByUsersB['orders'],\n",
    "        pd.Series(\n",
    "            0,\n",
    "            index=np.arange(\n",
    "                data['visitorsPerDateB'].sum() - len(ordersByUsersB['orders'])\n",
    "            ),\n",
    "            name='orders',\n",
    "        ),\n",
    "    ],\n",
    "    axis=0,\n",
    ")"
   ]
  },
  {
   "cell_type": "code",
   "execution_count": 40,
   "metadata": {
    "scrolled": true
   },
   "outputs": [
    {
     "name": "stdout",
     "output_type": "stream",
     "text": [
      "p-value: 0.006\n",
      "Относительный прирост среднего числа заказов на посетителя группы B к группе A: 0.160\n"
     ]
    }
   ],
   "source": [
    "print(\"p-value: {0:.3f}\".format(stats.mannwhitneyu(sampleA, sampleB, True, 'less')[1])) #Добавлен признак односторонней гипотезы\n",
    "\n",
    "print(\"Относительный прирост среднего числа заказов на посетителя группы B к группе A: {0:.3f}\".format(sampleB.mean() / sampleA.mean() - 1))"
   ]
  },
  {
   "cell_type": "markdown",
   "metadata": {},
   "source": [
    "p-value = 0.006 = 0,6% меньше порога 5%, соответственно, разница в данных групп A и B статистически значима и позволяет отвергнуть гипотезу $H_0$ в пользу $H_1$. Можем утверждать, что число заказов на посетителя увеличилось. При этом относительный прирост в группе B составил 16%."
   ]
  },
  {
   "cell_type": "markdown",
   "metadata": {},
   "source": [
    "#### Задача 11. Cтатистическая значимость различий в среднем  чеке заказов по \"сырым\" данным"
   ]
  },
  {
   "cell_type": "markdown",
   "metadata": {},
   "source": [
    "Проверим гипотезу $H_0$ - среднй чек между группами не изменился.  \n",
    "Альтернативная гипотеза $H_1$ - средний чек изменился.\n",
    "\n",
    "Уровень значимости $\\alpha$ = 0.05 (5%)"
   ]
  },
  {
   "cell_type": "code",
   "execution_count": 41,
   "metadata": {},
   "outputs": [
    {
     "name": "stdout",
     "output_type": "stream",
     "text": [
      "p-value: 0.829\n",
      "Относительный прирост среднего чека группы B к группе A: 0.287\n"
     ]
    }
   ],
   "source": [
    "print('p-value: {0:.3f}'.format(stats.mannwhitneyu(orders[orders['group']=='A']['revenue'],\n",
    "                                          orders[orders['group']=='B']['revenue'])[1]))\n",
    "print('Относительный прирост среднего чека группы B к группе A: {0:.3f}'.format(orders[orders['group']=='B']['revenue'].mean()/\n",
    "                       orders[orders['group']=='A']['revenue'].mean()-1))"
   ]
  },
  {
   "cell_type": "markdown",
   "metadata": {},
   "source": [
    "Сравниваем с $\\alpha/2$ = 0.05/2 = 0.25 (2,5%), так как гипотеза двусторонняя.\n",
    "   \n",
    "p-value: 0.829 = 82.9% значительно больше 2,5% и не позволяет отвергнуть гипотезу о равенстве среднего чека между группами. То есть, хотя при наблюдении относительное увеличение среднего чека в группе B и составило почти 28,7%, оно не является статистически значимым."
   ]
  },
  {
   "cell_type": "markdown",
   "metadata": {},
   "source": [
    "#### Задача 12. Cтатистическая значимость различий в среднем  количестве заказов на посетителя по \"очищенным\" данным"
   ]
  },
  {
   "cell_type": "markdown",
   "metadata": {},
   "source": [
    "Выделим пользователей, которых мы не будем учитывать из-за аномальных выбросов данных по ним."
   ]
  },
  {
   "cell_type": "code",
   "execution_count": 42,
   "metadata": {},
   "outputs": [
    {
     "name": "stdout",
     "output_type": "stream",
     "text": [
      "568     113298937\n",
      "1099    148427295\n",
      "928     204675465\n",
      "33      249864742\n",
      "684     358944393\n",
      "Name: visitor_id, dtype: int64\n",
      "Количество исключаемых пользователей: 86\n"
     ]
    }
   ],
   "source": [
    "# opu_p95  - 95-й перцентиль по заказам на пользователя из Задачи 7\n",
    "# oc_p95 - 95-й перцентиль по стоимости заказа из Задачи 9\n",
    "\n",
    "usersWithManyOrders = pd.concat(\n",
    "    [\n",
    "        ordersByUsersA[ordersByUsersA['orders'] > opu_p95]['visitor_id'],\n",
    "        ordersByUsersB[ordersByUsersB['orders'] > opu_p95]['visitor_id'],\n",
    "    ],\n",
    "    axis=0,\n",
    ")\n",
    "usersWithExpensiveOrders = orders[orders['revenue'] > oc_p95]['visitor_id']\n",
    "abnormalUsers = (\n",
    "    pd.concat([usersWithManyOrders, usersWithExpensiveOrders], axis=0)\n",
    "    .drop_duplicates()\n",
    "    .sort_values()\n",
    ")\n",
    "print(abnormalUsers.head(5))\n",
    "print('Количество исключаемых пользователей:', abnormalUsers.shape[0])"
   ]
  },
  {
   "cell_type": "markdown",
   "metadata": {},
   "source": [
    "Проверим гипотезу $H_0$ - среднее количество заказов на посетителя не изменилось.\n",
    "\n",
    "Альтернативная гипотеза $H_1$ - среднее количество заказов на пользователя увеличилось.\n",
    "\n",
    "Уровень значимости $\\alpha$ = 0.05 (5%)"
   ]
  },
  {
   "cell_type": "code",
   "execution_count": 44,
   "metadata": {
    "scrolled": true
   },
   "outputs": [
    {
     "name": "stdout",
     "output_type": "stream",
     "text": [
      "p-value: 0.008\n",
      "Относительный прирост среднего числа заказов на посетителя группы B к группе A: 0.174\n"
     ]
    }
   ],
   "source": [
    "sampleAFiltered = pd.concat(\n",
    "    [\n",
    "        ordersByUsersA[\n",
    "            np.logical_not(ordersByUsersA['visitor_id'].isin(abnormalUsers))\n",
    "        ]['orders'],\n",
    "        pd.Series(\n",
    "            0,\n",
    "            index=np.arange(\n",
    "                data['visitorsPerDateA'].sum() - len(ordersByUsersA['orders'])\n",
    "            ),\n",
    "            name='orders',\n",
    "        ),\n",
    "    ],\n",
    "    axis=0,\n",
    ")\n",
    "\n",
    "sampleBFiltered = pd.concat(\n",
    "    [\n",
    "        ordersByUsersB[\n",
    "            np.logical_not(ordersByUsersB['visitor_id'].isin(abnormalUsers))\n",
    "        ]['orders'],\n",
    "        pd.Series(\n",
    "            0,\n",
    "            index=np.arange(\n",
    "                data['visitorsPerDateB'].sum() - len(ordersByUsersB['orders'])\n",
    "            ),\n",
    "            name='orders',\n",
    "        ),\n",
    "    ],\n",
    "    axis=0,\n",
    ")\n",
    "\n",
    "print('p-value: {0:.3f}'.format(stats.mannwhitneyu(sampleAFiltered, sampleBFiltered, True, 'less')[1]))\n",
    "print('Относительный прирост среднего числа заказов на посетителя группы B к группе A: {0:.3f}'.format(sampleBFiltered.mean()/sampleAFiltered.mean()-1))"
   ]
  },
  {
   "cell_type": "markdown",
   "metadata": {},
   "source": [
    "p-value = 0.008 = 0,8% меньше порога 5%, соответственно, разница в данных групп A и B статистически значима и позволяет отвергнуть гипотезу $H_0$ в пользу $H_1$. Можем утверждать, что число заказов на посетителя увеличилось. При этом относительный прирост в группе B составил 17.4%."
   ]
  },
  {
   "cell_type": "markdown",
   "metadata": {},
   "source": [
    "#### Задача 13. Cтатистическая значимость различий в среднем  чеке заказов по \"очищенным\" данным"
   ]
  },
  {
   "cell_type": "markdown",
   "metadata": {},
   "source": [
    "Проверим на очищенных данных гипотезу $H_0$ - средний чек между группами не изменился.\n",
    "\n",
    "Альтернативная гипотеза $H_1$ - средний чек изменился.\n",
    "\n",
    "Уровень значимости $\\alpha$ = 0.05 (5%)"
   ]
  },
  {
   "cell_type": "code",
   "execution_count": 45,
   "metadata": {},
   "outputs": [
    {
     "name": "stdout",
     "output_type": "stream",
     "text": [
      "p-value: 0.727\n",
      "Относительный прирост среднего чека группы B к группе A: -0.034\n"
     ]
    }
   ],
   "source": [
    "print(\n",
    "    'p-value: {0:.3f}'.format(\n",
    "        stats.mannwhitneyu(\n",
    "            orders[\n",
    "                np.logical_and(\n",
    "                    orders['group'] == 'A',\n",
    "                    np.logical_not(orders['visitor_id'].isin(abnormalUsers)),\n",
    "                )\n",
    "            ]['revenue'],\n",
    "            orders[\n",
    "                np.logical_and(\n",
    "                    orders['group'] == 'B',\n",
    "                    np.logical_not(orders['visitor_id'].isin(abnormalUsers)),\n",
    "                )\n",
    "            ]['revenue'],\n",
    "        )[1]\n",
    "    )\n",
    ")\n",
    "\n",
    "print(\n",
    "    \"Относительный прирост среднего чека группы B к группе A: {0:.3f}\".format(\n",
    "        orders[\n",
    "            np.logical_and(\n",
    "                orders['group'] == 'B',\n",
    "                np.logical_not(orders['visitor_id'].isin(abnormalUsers)),\n",
    "            )\n",
    "        ]['revenue'].mean()\n",
    "        / orders[\n",
    "            np.logical_and(\n",
    "                orders['group'] == 'A',\n",
    "                np.logical_not(orders['visitor_id'].isin(abnormalUsers)),\n",
    "            )\n",
    "        ]['revenue'].mean()\n",
    "        - 1\n",
    "    )\n",
    ")"
   ]
  },
  {
   "cell_type": "markdown",
   "metadata": {},
   "source": [
    "Сравниваем с $\\alpha/2$ = 0.05/2 = 0.25 (2,5%), так как гипотеза двусторонняя.\n",
    "   \n",
    "p-value: 0.727 = 72,7% значительно больше 2,5% и не позволяет отвергнуть гипотезу о равенстве среднего чека между группами. То есть, хотя при наблюдении относительное уменьшение среднего чека в группе B на \"чистых\" данных и составило 3,4%, оно не является статистически значимым."
   ]
  },
  {
   "cell_type": "markdown",
   "metadata": {},
   "source": [
    "#### Задача 14. Решение по результатам теста"
   ]
  },
  {
   "cell_type": "markdown",
   "metadata": {},
   "source": [
    "Данные для принятия решения об увеличении в группе B среднего количества заказов на пользователя являются статистически значимыми. В отношении этого показателя тест можно прекращать."
   ]
  },
  {
   "cell_type": "markdown",
   "metadata": {},
   "source": [
    "Для того, чтобы понять, подходят ли нам данные по среднему чеку, воспользуемся данными по числу посещений, конверсии группы A и калькулятором расчета количества измерений. \n",
    "\n",
    "Приблизительно оценим, на какую минимальную точность мы можем рассчитывать при нашем количестве посетителей за время теста.\n",
    "Мы знаем количество конверсий (смотрим кумулятивные данные по группе A на последнюю дату). Это 3% (с округлением до целых для калькулятора  https://www.evanmiller.org/ab-testing/sample-size.html)\n",
    "Дальше подбираем проценты минимально выявляемого эффекта, чтобы размер выборки (число визитов) было не более нашего числа визитов из кумулятивных данных на конец теста."
   ]
  },
  {
   "cell_type": "code",
   "execution_count": 46,
   "metadata": {},
   "outputs": [
    {
     "data": {
      "text/html": [
       "<div>\n",
       "<style scoped>\n",
       "    .dataframe tbody tr th:only-of-type {\n",
       "        vertical-align: middle;\n",
       "    }\n",
       "\n",
       "    .dataframe tbody tr th {\n",
       "        vertical-align: top;\n",
       "    }\n",
       "\n",
       "    .dataframe thead th {\n",
       "        text-align: right;\n",
       "    }\n",
       "</style>\n",
       "<table border=\"1\" class=\"dataframe\">\n",
       "  <thead>\n",
       "    <tr style=\"text-align: right;\">\n",
       "      <th></th>\n",
       "      <th>date</th>\n",
       "      <th>group</th>\n",
       "      <th>orders</th>\n",
       "      <th>buyers</th>\n",
       "      <th>revenue</th>\n",
       "      <th>visitors</th>\n",
       "      <th>conversion</th>\n",
       "    </tr>\n",
       "  </thead>\n",
       "  <tbody>\n",
       "    <tr>\n",
       "      <th>60</th>\n",
       "      <td>2019-08-31</td>\n",
       "      <td>A</td>\n",
       "      <td>468</td>\n",
       "      <td>445</td>\n",
       "      <td>3364656</td>\n",
       "      <td>18736</td>\n",
       "      <td>0.024979</td>\n",
       "    </tr>\n",
       "    <tr>\n",
       "      <th>61</th>\n",
       "      <td>2019-08-31</td>\n",
       "      <td>B</td>\n",
       "      <td>548</td>\n",
       "      <td>528</td>\n",
       "      <td>5068972</td>\n",
       "      <td>18916</td>\n",
       "      <td>0.028970</td>\n",
       "    </tr>\n",
       "  </tbody>\n",
       "</table>\n",
       "</div>"
      ],
      "text/plain": [
       "         date group  orders  buyers  revenue  visitors  conversion\n",
       "60 2019-08-31     A     468     445  3364656     18736    0.024979\n",
       "61 2019-08-31     B     548     528  5068972     18916    0.028970"
      ]
     },
     "execution_count": 46,
     "metadata": {},
     "output_type": "execute_result"
    }
   ],
   "source": [
    "cumulativeData[cumulativeData['date']==cumulativeData['date'].max()]"
   ]
  },
  {
   "attachments": {
    "image.png": {
     "image/png": "[encoded data removed]"
    }
   },
   "cell_type": "markdown",
   "metadata": {},
   "source": [
    "То есть, мы видим, что конверсия около 3%. Смотрим\n",
    "![image.png](attachment:image.png)"
   ]
  },
  {
   "cell_type": "markdown",
   "metadata": {},
   "source": [
    "Под наше количество посетителей в группе подбираем тот уровень относительного изменения, которое мы можем выявить со статистической значимостью. Получаем 17% относительных изменений. Из этого, кстати, заметно, что выявленное изменение заказов на посетителя очень близко в минимально определяемому при таком количестве наблюдений.\n",
    "\n",
    "А поскольку за наше количество измерений (около 19000) изменения среднего чека не были статистически значимыми, то реальная величина относительных изменений в эксперименте меньше 17% и нам не хватило выборки для ее выявления.\n",
    "\n",
    "Если для нас такая относительная точность в 17% для определения изменения среднего чека допустима, то эксперимент можно прекращать."
   ]
  },
  {
   "cell_type": "markdown",
   "metadata": {},
   "source": [
    "## Выводы"
   ]
  },
  {
   "cell_type": "markdown",
   "metadata": {},
   "source": [
    "1. Исходные данные были готовы к работе с выполнением небольших операций по преобразованию типов даты и переименованию колонок.\n",
    "2. При приоритизации гипотез по фреймворку ICE наибольший приоритет получила гипотеза 8 \"Запустить акцию, дающую скидку на товар в день рождения\".\n",
    "3. При приоритизации гипотез по фреймворку RICE наибольший приоритет получила гипотеза 7 \"Добавить форму подписки на все основные страницы, чтобы собрать базу клиентов для email-рассылок\".\n",
    "4. При смене фреймворка приоритизации, в целом, состав ТОП5 приоритетов не изменился. Но значительно изменился их порядок ранжирования. Это произошло потому, что в случае RICE мы дополнительно учли охват воздействия гипотез.\n",
    "5. В задаче 1 кумулятивная выручка постоянно растет по обеим группам. В целом, рост происходит схожими темпами, однако у группы B заметен сильный всплеск выручки 19.08.2019. Это могло произойти либо из-за необычного большого количества заказов в этот день, либо заказа с высоким чеком (именно последнее подтверждается в следующем пункте).\n",
    "6. В задаче 2 видно, что в группе B  значительно увеличился средний чек 19 августа. И это была нетипичная ситуация, так как далее кумулятивные данные начали снижаться за счет более низких средних чеков в последующие дни.<br>Кроме того, в той же группе B  и до этого случались увеличения чека 2 августа, а также с 6 по 8, 15 августа.<br> В группе A средний чек сначала снижался (причем значительно, поскольку мы из предыдущего графика знаем, что общая выручка росла). Но с 7 августа размер чека постоянно рос до 13 августа. Далее размер среднего чека постепенно стабилизировался.\n",
    "7. В задаче 3 на графике относительного между группами изменения кумулятивного среднего чека видно, что изначально седний чек у группы A был выше.Затем большую часть времени кумулятивный средний чек группы B был выше, чем у группы A.<br>Исключение составляет период с 12 по 15 августа.<br>Последние 3 дня соотношение было приблизительно постоянным.\n",
    "8. В задаче 4 на графике кумулятивного среднего количества заказов на посетителя видим вначале значительные колебания конверсии, что говорит о том, что периоды одинаковой конверсии не постоянны, а уровень конверсии постоянно меняется, однако со временем при кумулятивном рассмотрении эти неравномерности сглаживаются.<br>Соответственно, постепенно становится хорошо заметно установление у групп A и B стабильно разных значений конверсии.\n",
    "9. В задаче 5 на графике относительного изменения кумулятивного среднего количества заказов на посетителя видно, что начиная с 6 августа количество заказов в группе B начинает значительно расти и постепенно, по мере накопления суммарных значений, закрепляется превосходящее количество заказов на посетителя в группе B по отношению к группе A.<br>В начале заметно преобладание количество заказов у группы A, но это были локальные всплески, которые впоследствии нивелировались общими суммарными занчениями.\n",
    "10. В задаче 6 на точечном графике количества заказов по пользователям видно, что основное количество заказов на пользователя составляет от 1 до 3. С количеством заказов выше - уже единичное число пользователей.\n",
    "11. В задаче 7 границу учета в тесте установим на уровне 95-го перцентиля в 2 заказа на пользователя. Пользователей с 3-мя заказами уже учитывать не будем.\n",
    "12. В задаче 8 на точечном графике стоимостей заказов видно, что, в основном, стоимость всех заказов не превышает 100 000 руб. Заметны лишь два выброса, превышающих эти значения.\n",
    "13. В задаче 9 границу учета в тесте стоимости заказа установим на уровне 95-го перцентиля в 28000 рублей, заказы с большей стоимостью учитывать не будем.\n",
    "14. В задаче 10 по определению статистической значимости различий в среднем  количестве заказов на посетителя по \"сырым\" данным получаем p-value = 0.017 = 1,7% меньше порога 5%, соответственно, разница в данных групп A и B статистически значима и позволяет отвергнуть гипотезу  $𝐻_0$. Можем утверждать, что число заказов в группе B на посетителя изменилось. При этом относительный прирост в группе B составил 13.8%.\n",
    "15. В задаче 11 по определению статистической значимости различий в среднем чеке заказов по \"сырым\" данным получаем p-value: 0.729 = 72.9% значительно больше 5%, что не позволяет отвергнуть гипотезу о равенстве среднего чека между группами. То есть, хотя при наблюдении относительное увеличение среднего чека в группе B и составило почти 26%, оно не является статистически значимым.\n",
    "16. В задаче 12 по определению статистической значимости различий в среднем количестве заказов на посетителя по \"очищенным\" данным получаем p-value: 0.013 на очищенных данных, что показало  статистическую значимость результатов большую по сравнению с \"сырыми\" данными (0.017), что позволяет с еще большей уверенностью отвергнуть гипотезу $H_0$.<br>Прирост среднего числа заказов на посетителя в 17,3% также выше, чем был на \"сырых\" данных (13,8%).\n",
    "17. В задаче 13 по определению статистической значимости различий в среднем чеке заказов по \"очищенным\" данным получаем p-value = 0.738, что отчетливее демонстрирует низкий уровень статистической значимости в различиях результатов у двух групп. Гипотеза равенства среднего чека не отвергается.<br>При этом по \"очищенным\" данным средний чек снизился на 2%, хотя на \"сырых\" данных был рост почти в 26%.\n",
    "18. В задаче 14 решение по результатам теста: остановить тест, зафиксировать улучшение количества заказов на пользователя в группе B и отсутствие различий в среднем чеке между группами.   "
   ]
  }
 ],
 "metadata": {
  "ExecuteTimeLog": [
   {
    "duration": 436,
    "start_time": "2024-04-05T11:05:29.487Z"
   },
   {
    "duration": 90,
    "start_time": "2024-04-05T11:06:17.255Z"
   },
   {
    "duration": 39,
    "start_time": "2024-04-05T12:18:54.553Z"
   },
   {
    "duration": 4,
    "start_time": "2024-04-05T12:21:48.377Z"
   },
   {
    "duration": 14,
    "start_time": "2024-04-05T12:44:41.348Z"
   },
   {
    "duration": 473,
    "start_time": "2024-04-05T12:54:10.103Z"
   },
   {
    "duration": 91,
    "start_time": "2024-04-05T12:55:14.453Z"
   },
   {
    "duration": 16,
    "start_time": "2024-04-05T12:57:50.951Z"
   },
   {
    "duration": 12,
    "start_time": "2024-04-05T12:59:11.926Z"
   },
   {
    "duration": 72,
    "start_time": "2024-04-05T13:03:28.862Z"
   },
   {
    "duration": 12,
    "start_time": "2024-04-05T13:03:37.050Z"
   },
   {
    "duration": 2,
    "start_time": "2024-04-05T13:07:42.107Z"
   },
   {
    "duration": 13,
    "start_time": "2024-04-05T13:07:53.019Z"
   },
   {
    "duration": 48,
    "start_time": "2024-04-05T13:08:08.780Z"
   },
   {
    "duration": 63,
    "start_time": "2024-04-05T13:09:09.920Z"
   },
   {
    "duration": 45,
    "start_time": "2024-04-05T16:19:28.889Z"
   },
   {
    "duration": 383,
    "start_time": "2024-04-05T16:19:38.399Z"
   },
   {
    "duration": 97,
    "start_time": "2024-04-05T16:19:38.783Z"
   },
   {
    "duration": 4,
    "start_time": "2024-04-05T16:19:38.881Z"
   },
   {
    "duration": 70,
    "start_time": "2024-04-05T16:19:38.886Z"
   },
   {
    "duration": 53,
    "start_time": "2024-04-05T16:19:38.958Z"
   },
   {
    "duration": 108,
    "start_time": "2024-04-05T16:36:37.276Z"
   },
   {
    "duration": 83,
    "start_time": "2024-04-05T16:38:38.425Z"
   },
   {
    "duration": 26,
    "start_time": "2024-04-05T16:50:12.295Z"
   },
   {
    "duration": 295,
    "start_time": "2024-04-05T16:50:21.947Z"
   },
   {
    "duration": 3,
    "start_time": "2024-04-05T16:50:51.493Z"
   },
   {
    "duration": 285,
    "start_time": "2024-04-05T16:51:05.737Z"
   },
   {
    "duration": 20,
    "start_time": "2024-04-05T16:51:50.321Z"
   },
   {
    "duration": 11,
    "start_time": "2024-04-05T16:52:25.811Z"
   },
   {
    "duration": 3,
    "start_time": "2024-04-05T17:00:35.157Z"
   },
   {
    "duration": 3,
    "start_time": "2024-04-05T17:04:27.546Z"
   },
   {
    "duration": 4,
    "start_time": "2024-04-05T17:32:17.216Z"
   },
   {
    "duration": 8,
    "start_time": "2024-04-05T17:33:36.934Z"
   },
   {
    "duration": 3,
    "start_time": "2024-04-05T17:33:49.224Z"
   },
   {
    "duration": 9,
    "start_time": "2024-04-05T17:35:51.894Z"
   },
   {
    "duration": 8,
    "start_time": "2024-04-05T17:36:17.492Z"
   },
   {
    "duration": 6,
    "start_time": "2024-04-05T17:37:15.107Z"
   },
   {
    "duration": 6,
    "start_time": "2024-04-05T17:39:49.125Z"
   },
   {
    "duration": 5,
    "start_time": "2024-04-05T17:39:59.340Z"
   },
   {
    "duration": 5,
    "start_time": "2024-04-05T17:40:06.362Z"
   },
   {
    "duration": 7,
    "start_time": "2024-04-05T17:41:03.770Z"
   },
   {
    "duration": 10,
    "start_time": "2024-04-05T17:41:36.583Z"
   },
   {
    "duration": 8,
    "start_time": "2024-04-05T17:43:14.373Z"
   },
   {
    "duration": 8,
    "start_time": "2024-04-05T17:43:20.785Z"
   },
   {
    "duration": 10,
    "start_time": "2024-04-05T17:47:00.672Z"
   },
   {
    "duration": 301,
    "start_time": "2024-04-05T17:47:16.786Z"
   },
   {
    "duration": 38,
    "start_time": "2024-04-05T17:47:21.729Z"
   },
   {
    "duration": 10,
    "start_time": "2024-04-05T17:47:22.642Z"
   },
   {
    "duration": 5,
    "start_time": "2024-04-05T17:48:22.286Z"
   },
   {
    "duration": 9,
    "start_time": "2024-04-05T17:53:07.839Z"
   },
   {
    "duration": 8,
    "start_time": "2024-04-05T17:53:55.364Z"
   },
   {
    "duration": 8,
    "start_time": "2024-04-05T17:54:13.536Z"
   },
   {
    "duration": 8,
    "start_time": "2024-04-05T17:57:27.877Z"
   },
   {
    "duration": 8,
    "start_time": "2024-04-05T17:57:44.642Z"
   },
   {
    "duration": 8,
    "start_time": "2024-04-05T17:58:27.300Z"
   },
   {
    "duration": 9,
    "start_time": "2024-04-05T18:02:57.028Z"
   },
   {
    "duration": 11,
    "start_time": "2024-04-05T18:03:25.938Z"
   },
   {
    "duration": 8,
    "start_time": "2024-04-05T18:03:37.268Z"
   },
   {
    "duration": 7,
    "start_time": "2024-04-05T18:07:22.486Z"
   },
   {
    "duration": 109,
    "start_time": "2024-04-05T19:25:13.389Z"
   },
   {
    "duration": 20,
    "start_time": "2024-04-05T19:27:06.495Z"
   },
   {
    "duration": 3,
    "start_time": "2024-04-05T19:27:44.832Z"
   },
   {
    "duration": 20,
    "start_time": "2024-04-05T19:27:55.852Z"
   },
   {
    "duration": 19,
    "start_time": "2024-04-05T19:28:25.896Z"
   },
   {
    "duration": 62,
    "start_time": "2024-04-05T19:30:02.451Z"
   },
   {
    "duration": 21,
    "start_time": "2024-04-05T19:30:15.602Z"
   },
   {
    "duration": 10,
    "start_time": "2024-04-05T19:30:26.188Z"
   },
   {
    "duration": 290,
    "start_time": "2024-04-05T19:30:52.363Z"
   },
   {
    "duration": 61,
    "start_time": "2024-04-05T19:31:05.925Z"
   },
   {
    "duration": 18,
    "start_time": "2024-04-05T19:31:11.595Z"
   },
   {
    "duration": 11,
    "start_time": "2024-04-05T19:31:19.235Z"
   },
   {
    "duration": 7,
    "start_time": "2024-04-05T19:31:39.535Z"
   },
   {
    "duration": 158,
    "start_time": "2024-04-05T19:32:13.259Z"
   },
   {
    "duration": 228,
    "start_time": "2024-04-05T19:35:46.426Z"
   },
   {
    "duration": 285,
    "start_time": "2024-04-05T19:36:24.088Z"
   },
   {
    "duration": 441,
    "start_time": "2024-04-05T19:37:36.077Z"
   },
   {
    "duration": 318,
    "start_time": "2024-04-05T19:38:23.413Z"
   },
   {
    "duration": 220,
    "start_time": "2024-04-05T19:38:43.971Z"
   },
   {
    "duration": 824,
    "start_time": "2024-04-07T10:11:08.743Z"
   },
   {
    "duration": 91,
    "start_time": "2024-04-07T10:11:09.569Z"
   },
   {
    "duration": 4,
    "start_time": "2024-04-07T10:11:09.661Z"
   },
   {
    "duration": 43,
    "start_time": "2024-04-07T10:11:09.667Z"
   },
   {
    "duration": 43,
    "start_time": "2024-04-07T10:11:09.712Z"
   },
   {
    "duration": 110,
    "start_time": "2024-04-07T10:11:09.757Z"
   },
   {
    "duration": 19,
    "start_time": "2024-04-07T10:11:09.869Z"
   },
   {
    "duration": 19,
    "start_time": "2024-04-07T10:11:09.890Z"
   },
   {
    "duration": 11,
    "start_time": "2024-04-07T10:11:09.910Z"
   },
   {
    "duration": 4,
    "start_time": "2024-04-07T10:11:09.923Z"
   },
   {
    "duration": 85,
    "start_time": "2024-04-07T10:11:09.929Z"
   },
   {
    "duration": 10,
    "start_time": "2024-04-07T10:11:10.016Z"
   },
   {
    "duration": 40,
    "start_time": "2024-04-07T10:11:10.028Z"
   },
   {
    "duration": 41,
    "start_time": "2024-04-07T10:11:10.070Z"
   },
   {
    "duration": 529,
    "start_time": "2024-04-07T10:11:10.112Z"
   },
   {
    "duration": 289,
    "start_time": "2024-04-07T10:11:10.643Z"
   },
   {
    "duration": 175,
    "start_time": "2024-04-07T10:11:34.164Z"
   },
   {
    "duration": 172,
    "start_time": "2024-04-07T10:13:02.750Z"
   },
   {
    "duration": 259,
    "start_time": "2024-04-07T10:13:52.913Z"
   },
   {
    "duration": 17,
    "start_time": "2024-04-07T10:18:52.663Z"
   },
   {
    "duration": 15,
    "start_time": "2024-04-07T10:19:26.013Z"
   },
   {
    "duration": 205,
    "start_time": "2024-04-07T10:23:33.639Z"
   },
   {
    "duration": 222,
    "start_time": "2024-04-07T10:27:16.201Z"
   },
   {
    "duration": 204,
    "start_time": "2024-04-07T10:28:49.149Z"
   },
   {
    "duration": 137,
    "start_time": "2024-04-07T10:39:46.646Z"
   },
   {
    "duration": 151,
    "start_time": "2024-04-07T10:41:25.905Z"
   },
   {
    "duration": 136,
    "start_time": "2024-04-07T10:41:50.013Z"
   },
   {
    "duration": 219,
    "start_time": "2024-04-07T10:41:55.266Z"
   },
   {
    "duration": 788,
    "start_time": "2024-04-08T10:01:08.865Z"
   },
   {
    "duration": 90,
    "start_time": "2024-04-08T10:01:09.655Z"
   },
   {
    "duration": 4,
    "start_time": "2024-04-08T10:01:09.746Z"
   },
   {
    "duration": 60,
    "start_time": "2024-04-08T10:01:09.752Z"
   },
   {
    "duration": 42,
    "start_time": "2024-04-08T10:01:09.814Z"
   },
   {
    "duration": 106,
    "start_time": "2024-04-08T10:01:09.858Z"
   },
   {
    "duration": 21,
    "start_time": "2024-04-08T10:01:09.965Z"
   },
   {
    "duration": 17,
    "start_time": "2024-04-08T10:01:09.988Z"
   },
   {
    "duration": 26,
    "start_time": "2024-04-08T10:01:10.007Z"
   },
   {
    "duration": 6,
    "start_time": "2024-04-08T10:01:10.035Z"
   },
   {
    "duration": 89,
    "start_time": "2024-04-08T10:01:10.042Z"
   },
   {
    "duration": 11,
    "start_time": "2024-04-08T10:01:10.133Z"
   },
   {
    "duration": 10,
    "start_time": "2024-04-08T10:01:10.145Z"
   },
   {
    "duration": 6,
    "start_time": "2024-04-08T10:01:10.157Z"
   },
   {
    "duration": 305,
    "start_time": "2024-04-08T10:01:10.165Z"
   },
   {
    "duration": 312,
    "start_time": "2024-04-08T10:01:10.472Z"
   },
   {
    "duration": 162,
    "start_time": "2024-04-08T10:04:03.591Z"
   },
   {
    "duration": 205,
    "start_time": "2024-04-08T10:05:23.643Z"
   },
   {
    "duration": 275,
    "start_time": "2024-04-08T10:06:50.112Z"
   },
   {
    "duration": 216,
    "start_time": "2024-04-08T10:18:24.936Z"
   },
   {
    "duration": 215,
    "start_time": "2024-04-08T10:18:37.174Z"
   },
   {
    "duration": 274,
    "start_time": "2024-04-08T10:22:36.455Z"
   },
   {
    "duration": 310,
    "start_time": "2024-04-08T10:22:52.373Z"
   },
   {
    "duration": 261,
    "start_time": "2024-04-08T10:23:32.350Z"
   },
   {
    "duration": 284,
    "start_time": "2024-04-08T10:23:37.346Z"
   },
   {
    "duration": 243,
    "start_time": "2024-04-08T10:27:53.690Z"
   },
   {
    "duration": 36,
    "start_time": "2024-04-08T10:28:31.288Z"
   },
   {
    "duration": 336,
    "start_time": "2024-04-08T10:28:47.240Z"
   },
   {
    "duration": 318,
    "start_time": "2024-04-08T10:32:03.829Z"
   },
   {
    "duration": 444,
    "start_time": "2024-04-08T10:34:07.193Z"
   },
   {
    "duration": 403,
    "start_time": "2024-04-08T10:35:23.795Z"
   },
   {
    "duration": 462,
    "start_time": "2024-04-08T10:35:55.103Z"
   },
   {
    "duration": 345,
    "start_time": "2024-04-08T10:42:08.766Z"
   },
   {
    "duration": 272,
    "start_time": "2024-04-08T10:43:28.885Z"
   },
   {
    "duration": 293,
    "start_time": "2024-04-08T10:47:18.379Z"
   },
   {
    "duration": 238,
    "start_time": "2024-04-08T10:48:44.353Z"
   },
   {
    "duration": 13,
    "start_time": "2024-04-08T10:49:26.112Z"
   },
   {
    "duration": 294,
    "start_time": "2024-04-08T10:49:42.990Z"
   },
   {
    "duration": 391,
    "start_time": "2024-04-08T10:50:29.701Z"
   },
   {
    "duration": 293,
    "start_time": "2024-04-08T10:50:33.785Z"
   },
   {
    "duration": 414,
    "start_time": "2024-04-08T10:52:02.230Z"
   },
   {
    "duration": 463,
    "start_time": "2024-04-08T10:52:14.581Z"
   },
   {
    "duration": 568,
    "start_time": "2024-04-08T10:52:46.674Z"
   },
   {
    "duration": 563,
    "start_time": "2024-04-08T10:56:14.123Z"
   },
   {
    "duration": 224,
    "start_time": "2024-04-08T11:08:18.696Z"
   },
   {
    "duration": 206,
    "start_time": "2024-04-08T11:08:41.461Z"
   },
   {
    "duration": 379,
    "start_time": "2024-04-08T11:13:53.050Z"
   },
   {
    "duration": 582,
    "start_time": "2024-04-08T11:14:09.457Z"
   },
   {
    "duration": 479,
    "start_time": "2024-04-08T11:14:33.942Z"
   },
   {
    "duration": 540,
    "start_time": "2024-04-08T11:14:58.877Z"
   },
   {
    "duration": 4,
    "start_time": "2024-04-08T12:25:27.788Z"
   },
   {
    "duration": 334,
    "start_time": "2024-04-08T12:53:16.803Z"
   },
   {
    "duration": 5,
    "start_time": "2024-04-08T12:53:23.562Z"
   },
   {
    "duration": 297,
    "start_time": "2024-04-08T12:53:33.372Z"
   },
   {
    "duration": 558,
    "start_time": "2024-04-08T12:57:59.930Z"
   },
   {
    "duration": 442,
    "start_time": "2024-04-08T12:58:46.614Z"
   },
   {
    "duration": 450,
    "start_time": "2024-04-08T13:00:08.285Z"
   },
   {
    "duration": 450,
    "start_time": "2024-04-08T13:01:01.396Z"
   },
   {
    "duration": 125,
    "start_time": "2024-04-08T13:22:32.491Z"
   },
   {
    "duration": 12847,
    "start_time": "2024-04-08T13:23:36.420Z"
   },
   {
    "duration": 166,
    "start_time": "2024-04-08T13:25:22.596Z"
   },
   {
    "duration": 197,
    "start_time": "2024-04-08T13:27:30.654Z"
   },
   {
    "duration": 148,
    "start_time": "2024-04-08T13:27:38.218Z"
   },
   {
    "duration": 175,
    "start_time": "2024-04-08T13:28:11.092Z"
   },
   {
    "duration": 194,
    "start_time": "2024-04-08T13:28:33.721Z"
   },
   {
    "duration": 204,
    "start_time": "2024-04-08T13:29:52.111Z"
   },
   {
    "duration": 48,
    "start_time": "2024-04-08T16:30:10.129Z"
   },
   {
    "duration": 7,
    "start_time": "2024-04-08T16:30:32.167Z"
   },
   {
    "duration": 759,
    "start_time": "2024-04-08T16:32:10.233Z"
   },
   {
    "duration": 88,
    "start_time": "2024-04-08T16:32:10.994Z"
   },
   {
    "duration": 4,
    "start_time": "2024-04-08T16:32:11.083Z"
   },
   {
    "duration": 47,
    "start_time": "2024-04-08T16:32:11.089Z"
   },
   {
    "duration": 39,
    "start_time": "2024-04-08T16:32:11.138Z"
   },
   {
    "duration": 102,
    "start_time": "2024-04-08T16:32:11.179Z"
   },
   {
    "duration": 18,
    "start_time": "2024-04-08T16:32:11.283Z"
   },
   {
    "duration": 13,
    "start_time": "2024-04-08T16:32:11.303Z"
   },
   {
    "duration": 11,
    "start_time": "2024-04-08T16:32:11.317Z"
   },
   {
    "duration": 5,
    "start_time": "2024-04-08T16:32:11.330Z"
   },
   {
    "duration": 96,
    "start_time": "2024-04-08T16:32:11.336Z"
   },
   {
    "duration": 10,
    "start_time": "2024-04-08T16:32:11.434Z"
   },
   {
    "duration": 8,
    "start_time": "2024-04-08T16:32:11.446Z"
   },
   {
    "duration": 5,
    "start_time": "2024-04-08T16:32:11.455Z"
   },
   {
    "duration": 275,
    "start_time": "2024-04-08T16:32:11.462Z"
   },
   {
    "duration": 546,
    "start_time": "2024-04-08T16:32:11.739Z"
   },
   {
    "duration": 386,
    "start_time": "2024-04-08T16:32:12.287Z"
   },
   {
    "duration": 592,
    "start_time": "2024-04-08T16:32:12.675Z"
   },
   {
    "duration": 559,
    "start_time": "2024-04-08T16:32:13.269Z"
   },
   {
    "duration": 419,
    "start_time": "2024-04-08T16:32:13.829Z"
   },
   {
    "duration": 190,
    "start_time": "2024-04-08T16:32:14.250Z"
   },
   {
    "duration": 48,
    "start_time": "2024-04-08T16:32:14.441Z"
   },
   {
    "duration": 7,
    "start_time": "2024-04-08T16:32:47.834Z"
   },
   {
    "duration": 9,
    "start_time": "2024-04-08T16:33:07.209Z"
   },
   {
    "duration": 173,
    "start_time": "2024-04-08T16:42:52.351Z"
   },
   {
    "duration": 198,
    "start_time": "2024-04-08T16:43:38.851Z"
   },
   {
    "duration": 158,
    "start_time": "2024-04-08T16:44:22.976Z"
   },
   {
    "duration": 5,
    "start_time": "2024-04-08T16:57:45.380Z"
   },
   {
    "duration": 4,
    "start_time": "2024-04-08T17:01:32.760Z"
   },
   {
    "duration": 5,
    "start_time": "2024-04-08T17:01:52.419Z"
   },
   {
    "duration": 10,
    "start_time": "2024-04-08T17:01:57.537Z"
   },
   {
    "duration": 4,
    "start_time": "2024-04-08T17:02:04.460Z"
   },
   {
    "duration": 10,
    "start_time": "2024-04-08T17:02:18.246Z"
   },
   {
    "duration": 9,
    "start_time": "2024-04-08T17:02:54.981Z"
   },
   {
    "duration": 5,
    "start_time": "2024-04-08T17:03:52.239Z"
   },
   {
    "duration": 5,
    "start_time": "2024-04-08T17:04:07.742Z"
   },
   {
    "duration": 4,
    "start_time": "2024-04-08T17:04:39.720Z"
   },
   {
    "duration": 6,
    "start_time": "2024-04-08T17:05:20.440Z"
   },
   {
    "duration": 4,
    "start_time": "2024-04-08T17:05:33.595Z"
   },
   {
    "duration": 5,
    "start_time": "2024-04-08T17:11:08.120Z"
   },
   {
    "duration": 150,
    "start_time": "2024-04-08T17:13:19.459Z"
   },
   {
    "duration": 568,
    "start_time": "2024-04-08T17:13:35.742Z"
   },
   {
    "duration": 190,
    "start_time": "2024-04-08T17:15:03.156Z"
   },
   {
    "duration": 520,
    "start_time": "2024-04-08T17:16:42.268Z"
   },
   {
    "duration": 515,
    "start_time": "2024-04-08T17:17:04.929Z"
   },
   {
    "duration": 4,
    "start_time": "2024-04-08T17:18:03.826Z"
   },
   {
    "duration": 3,
    "start_time": "2024-04-08T17:18:31.667Z"
   },
   {
    "duration": 627,
    "start_time": "2024-04-08T17:19:15.513Z"
   },
   {
    "duration": 412,
    "start_time": "2024-04-08T17:20:53.144Z"
   },
   {
    "duration": 5,
    "start_time": "2024-04-08T17:21:57.473Z"
   },
   {
    "duration": 275,
    "start_time": "2024-04-08T17:21:58.623Z"
   },
   {
    "duration": 4,
    "start_time": "2024-04-08T17:32:50.519Z"
   },
   {
    "duration": 55,
    "start_time": "2024-04-08T17:32:50.525Z"
   },
   {
    "duration": 4,
    "start_time": "2024-04-08T17:32:50.582Z"
   },
   {
    "duration": 67,
    "start_time": "2024-04-08T17:32:50.588Z"
   },
   {
    "duration": 42,
    "start_time": "2024-04-08T17:32:50.657Z"
   },
   {
    "duration": 51,
    "start_time": "2024-04-08T17:32:50.700Z"
   },
   {
    "duration": 19,
    "start_time": "2024-04-08T17:32:50.752Z"
   },
   {
    "duration": 24,
    "start_time": "2024-04-08T17:32:50.773Z"
   },
   {
    "duration": 14,
    "start_time": "2024-04-08T17:32:50.799Z"
   },
   {
    "duration": 17,
    "start_time": "2024-04-08T17:32:50.814Z"
   },
   {
    "duration": 39,
    "start_time": "2024-04-08T17:32:50.832Z"
   },
   {
    "duration": 10,
    "start_time": "2024-04-08T17:32:50.872Z"
   },
   {
    "duration": 27,
    "start_time": "2024-04-08T17:32:50.883Z"
   },
   {
    "duration": 5,
    "start_time": "2024-04-08T17:32:50.912Z"
   },
   {
    "duration": 276,
    "start_time": "2024-04-08T17:32:50.919Z"
   },
   {
    "duration": 444,
    "start_time": "2024-04-08T17:32:51.196Z"
   },
   {
    "duration": 439,
    "start_time": "2024-04-08T17:32:51.641Z"
   },
   {
    "duration": 564,
    "start_time": "2024-04-08T17:32:52.083Z"
   },
   {
    "duration": 572,
    "start_time": "2024-04-08T17:32:52.649Z"
   },
   {
    "duration": 461,
    "start_time": "2024-04-08T17:32:53.223Z"
   },
   {
    "duration": 9,
    "start_time": "2024-04-08T17:32:53.686Z"
   },
   {
    "duration": 209,
    "start_time": "2024-04-08T17:32:53.697Z"
   },
   {
    "duration": 4,
    "start_time": "2024-04-08T17:32:53.907Z"
   },
   {
    "duration": 271,
    "start_time": "2024-04-08T17:32:53.914Z"
   },
   {
    "duration": 199,
    "start_time": "2024-04-08T17:32:54.187Z"
   },
   {
    "duration": 422,
    "start_time": "2024-04-08T17:32:54.388Z"
   },
   {
    "duration": 4,
    "start_time": "2024-04-08T17:32:54.811Z"
   },
   {
    "duration": 594,
    "start_time": "2024-04-08T17:32:54.817Z"
   },
   {
    "duration": 9,
    "start_time": "2024-04-08T17:35:35.177Z"
   },
   {
    "duration": 9,
    "start_time": "2024-04-08T17:40:47.206Z"
   },
   {
    "duration": 10,
    "start_time": "2024-04-08T17:41:51.098Z"
   },
   {
    "duration": 8,
    "start_time": "2024-04-08T17:42:33.368Z"
   },
   {
    "duration": 9,
    "start_time": "2024-04-08T17:43:07.761Z"
   },
   {
    "duration": 11,
    "start_time": "2024-04-08T17:44:11.017Z"
   },
   {
    "duration": 11,
    "start_time": "2024-04-08T17:45:58.317Z"
   },
   {
    "duration": 428,
    "start_time": "2024-04-08T17:46:57.761Z"
   },
   {
    "duration": 15,
    "start_time": "2024-04-08T17:47:04.865Z"
   },
   {
    "duration": 1207,
    "start_time": "2024-04-09T10:08:30.367Z"
   },
   {
    "duration": 88,
    "start_time": "2024-04-09T10:08:31.576Z"
   },
   {
    "duration": 14,
    "start_time": "2024-04-09T10:08:31.665Z"
   },
   {
    "duration": 89,
    "start_time": "2024-04-09T10:08:31.680Z"
   },
   {
    "duration": 66,
    "start_time": "2024-04-09T10:08:31.772Z"
   },
   {
    "duration": 115,
    "start_time": "2024-04-09T10:08:31.840Z"
   },
   {
    "duration": 20,
    "start_time": "2024-04-09T10:08:31.956Z"
   },
   {
    "duration": 56,
    "start_time": "2024-04-09T10:08:31.978Z"
   },
   {
    "duration": 45,
    "start_time": "2024-04-09T10:08:32.037Z"
   },
   {
    "duration": 51,
    "start_time": "2024-04-09T10:08:32.084Z"
   },
   {
    "duration": 128,
    "start_time": "2024-04-09T10:08:32.136Z"
   },
   {
    "duration": 11,
    "start_time": "2024-04-09T10:08:32.266Z"
   },
   {
    "duration": 25,
    "start_time": "2024-04-09T10:08:32.278Z"
   },
   {
    "duration": 74,
    "start_time": "2024-04-09T10:08:32.307Z"
   },
   {
    "duration": 295,
    "start_time": "2024-04-09T10:08:32.383Z"
   },
   {
    "duration": 525,
    "start_time": "2024-04-09T10:08:32.680Z"
   },
   {
    "duration": 371,
    "start_time": "2024-04-09T10:08:33.207Z"
   },
   {
    "duration": 629,
    "start_time": "2024-04-09T10:08:33.580Z"
   },
   {
    "duration": 500,
    "start_time": "2024-04-09T10:08:34.211Z"
   },
   {
    "duration": 428,
    "start_time": "2024-04-09T10:08:34.713Z"
   },
   {
    "duration": 8,
    "start_time": "2024-04-09T10:08:35.143Z"
   },
   {
    "duration": 192,
    "start_time": "2024-04-09T10:08:35.153Z"
   },
   {
    "duration": 5,
    "start_time": "2024-04-09T10:08:35.347Z"
   },
   {
    "duration": 354,
    "start_time": "2024-04-09T10:08:35.354Z"
   },
   {
    "duration": 196,
    "start_time": "2024-04-09T10:08:35.710Z"
   },
   {
    "duration": 476,
    "start_time": "2024-04-09T10:08:35.908Z"
   },
   {
    "duration": 4,
    "start_time": "2024-04-09T10:08:36.385Z"
   },
   {
    "duration": 590,
    "start_time": "2024-04-09T10:08:36.391Z"
   },
   {
    "duration": 180,
    "start_time": "2024-04-09T10:10:28.124Z"
   },
   {
    "duration": 13,
    "start_time": "2024-04-09T10:11:20.339Z"
   },
   {
    "duration": 99,
    "start_time": "2024-04-09T10:12:06.126Z"
   },
   {
    "duration": 211,
    "start_time": "2024-04-09T10:12:28.316Z"
   },
   {
    "duration": 211,
    "start_time": "2024-04-09T10:13:04.699Z"
   },
   {
    "duration": 209,
    "start_time": "2024-04-09T10:13:15.871Z"
   },
   {
    "duration": 139,
    "start_time": "2024-04-09T10:15:01.501Z"
   },
   {
    "duration": 61,
    "start_time": "2024-04-09T10:17:03.772Z"
   },
   {
    "duration": 8,
    "start_time": "2024-04-09T10:17:20.179Z"
   },
   {
    "duration": 148,
    "start_time": "2024-04-09T10:23:30.778Z"
   },
   {
    "duration": 173,
    "start_time": "2024-04-09T10:26:17.612Z"
   },
   {
    "duration": 169,
    "start_time": "2024-04-09T10:32:18.622Z"
   },
   {
    "duration": 293,
    "start_time": "2024-04-09T10:43:05.949Z"
   },
   {
    "duration": 10,
    "start_time": "2024-04-09T10:47:08.654Z"
   },
   {
    "duration": 10,
    "start_time": "2024-04-09T10:48:42.459Z"
   },
   {
    "duration": 8,
    "start_time": "2024-04-09T10:53:49.060Z"
   },
   {
    "duration": 9,
    "start_time": "2024-04-09T10:56:32.425Z"
   },
   {
    "duration": 9,
    "start_time": "2024-04-09T11:01:23.892Z"
   },
   {
    "duration": 32,
    "start_time": "2024-04-09T11:03:12.516Z"
   },
   {
    "duration": 30,
    "start_time": "2024-04-09T11:04:32.348Z"
   },
   {
    "duration": 30,
    "start_time": "2024-04-09T11:04:41.365Z"
   },
   {
    "duration": 14,
    "start_time": "2024-04-09T11:13:08.209Z"
   },
   {
    "duration": 14,
    "start_time": "2024-04-09T11:14:36.616Z"
   },
   {
    "duration": 11,
    "start_time": "2024-04-09T13:07:53.629Z"
   },
   {
    "duration": 10,
    "start_time": "2024-04-09T13:14:46.591Z"
   },
   {
    "duration": 5,
    "start_time": "2024-04-09T13:16:47.057Z"
   },
   {
    "duration": 6,
    "start_time": "2024-04-09T13:17:52.638Z"
   },
   {
    "duration": 505,
    "start_time": "2024-04-09T13:21:40.273Z"
   },
   {
    "duration": 6,
    "start_time": "2024-04-09T13:35:08.448Z"
   },
   {
    "duration": 4,
    "start_time": "2024-04-09T13:35:19.951Z"
   },
   {
    "duration": 14,
    "start_time": "2024-04-09T13:35:35.216Z"
   },
   {
    "duration": 14,
    "start_time": "2024-04-09T13:36:01.744Z"
   },
   {
    "duration": 4,
    "start_time": "2024-04-09T13:36:32.422Z"
   },
   {
    "duration": 11,
    "start_time": "2024-04-09T13:36:50.371Z"
   },
   {
    "duration": 6,
    "start_time": "2024-04-09T13:39:03.182Z"
   },
   {
    "duration": 6,
    "start_time": "2024-04-09T13:39:43.982Z"
   },
   {
    "duration": 79,
    "start_time": "2024-04-09T13:44:23.969Z"
   },
   {
    "duration": 83,
    "start_time": "2024-04-09T13:44:39.100Z"
   },
   {
    "duration": 10,
    "start_time": "2024-04-09T13:44:51.119Z"
   },
   {
    "duration": 77,
    "start_time": "2024-04-09T14:14:26.752Z"
   },
   {
    "duration": 65,
    "start_time": "2024-04-09T14:52:16.410Z"
   },
   {
    "duration": 1015,
    "start_time": "2024-04-09T14:52:49.956Z"
   },
   {
    "duration": 73,
    "start_time": "2024-04-09T14:52:50.973Z"
   },
   {
    "duration": 4,
    "start_time": "2024-04-09T14:52:51.047Z"
   },
   {
    "duration": 39,
    "start_time": "2024-04-09T14:52:51.054Z"
   },
   {
    "duration": 36,
    "start_time": "2024-04-09T14:52:51.095Z"
   },
   {
    "duration": 53,
    "start_time": "2024-04-09T14:52:51.133Z"
   },
   {
    "duration": 19,
    "start_time": "2024-04-09T14:52:51.188Z"
   },
   {
    "duration": 15,
    "start_time": "2024-04-09T14:52:51.208Z"
   },
   {
    "duration": 15,
    "start_time": "2024-04-09T14:52:51.224Z"
   },
   {
    "duration": 6,
    "start_time": "2024-04-09T14:52:51.242Z"
   },
   {
    "duration": 46,
    "start_time": "2024-04-09T14:52:51.249Z"
   },
   {
    "duration": 11,
    "start_time": "2024-04-09T14:52:51.297Z"
   },
   {
    "duration": 14,
    "start_time": "2024-04-09T14:52:51.310Z"
   },
   {
    "duration": 6,
    "start_time": "2024-04-09T14:52:51.326Z"
   },
   {
    "duration": 327,
    "start_time": "2024-04-09T14:52:51.334Z"
   },
   {
    "duration": 589,
    "start_time": "2024-04-09T14:52:51.663Z"
   },
   {
    "duration": 367,
    "start_time": "2024-04-09T14:52:52.254Z"
   },
   {
    "duration": 565,
    "start_time": "2024-04-09T14:52:52.622Z"
   },
   {
    "duration": 512,
    "start_time": "2024-04-09T14:52:53.188Z"
   },
   {
    "duration": 435,
    "start_time": "2024-04-09T14:52:53.702Z"
   },
   {
    "duration": 9,
    "start_time": "2024-04-09T14:52:54.139Z"
   },
   {
    "duration": 189,
    "start_time": "2024-04-09T14:52:54.149Z"
   },
   {
    "duration": 6,
    "start_time": "2024-04-09T14:52:54.339Z"
   },
   {
    "duration": 375,
    "start_time": "2024-04-09T14:52:54.347Z"
   },
   {
    "duration": 205,
    "start_time": "2024-04-09T14:52:54.724Z"
   },
   {
    "duration": 490,
    "start_time": "2024-04-09T14:52:54.930Z"
   },
   {
    "duration": 4,
    "start_time": "2024-04-09T14:52:55.422Z"
   },
   {
    "duration": 537,
    "start_time": "2024-04-09T14:52:55.429Z"
   },
   {
    "duration": 256,
    "start_time": "2024-04-09T14:52:55.968Z"
   },
   {
    "duration": 160,
    "start_time": "2024-04-09T14:52:56.226Z"
   },
   {
    "duration": 6,
    "start_time": "2024-04-09T14:52:56.388Z"
   },
   {
    "duration": 196,
    "start_time": "2024-04-09T14:52:56.396Z"
   },
   {
    "duration": 12,
    "start_time": "2024-04-09T14:52:56.594Z"
   },
   {
    "duration": 8,
    "start_time": "2024-04-09T14:52:56.618Z"
   },
   {
    "duration": 16,
    "start_time": "2024-04-09T14:52:56.628Z"
   },
   {
    "duration": 36,
    "start_time": "2024-04-09T14:52:56.645Z"
   },
   {
    "duration": 38,
    "start_time": "2024-04-09T14:52:56.683Z"
   },
   {
    "duration": 10,
    "start_time": "2024-04-09T14:52:56.723Z"
   },
   {
    "duration": 47,
    "start_time": "2024-04-09T14:55:08.140Z"
   },
   {
    "duration": 1279,
    "start_time": "2024-04-09T17:19:06.167Z"
   },
   {
    "duration": 133,
    "start_time": "2024-04-09T17:19:07.448Z"
   },
   {
    "duration": 4,
    "start_time": "2024-04-09T17:19:07.583Z"
   },
   {
    "duration": 66,
    "start_time": "2024-04-09T17:19:07.589Z"
   },
   {
    "duration": 43,
    "start_time": "2024-04-09T17:19:07.657Z"
   },
   {
    "duration": 99,
    "start_time": "2024-04-09T17:19:07.702Z"
   },
   {
    "duration": 20,
    "start_time": "2024-04-09T17:19:07.802Z"
   },
   {
    "duration": 13,
    "start_time": "2024-04-09T17:19:07.824Z"
   },
   {
    "duration": 14,
    "start_time": "2024-04-09T17:19:07.839Z"
   },
   {
    "duration": 5,
    "start_time": "2024-04-09T17:19:07.854Z"
   },
   {
    "duration": 92,
    "start_time": "2024-04-09T17:19:07.861Z"
   },
   {
    "duration": 10,
    "start_time": "2024-04-09T17:19:07.955Z"
   },
   {
    "duration": 10,
    "start_time": "2024-04-09T17:19:07.966Z"
   },
   {
    "duration": 6,
    "start_time": "2024-04-09T17:19:07.979Z"
   },
   {
    "duration": 265,
    "start_time": "2024-04-09T17:19:07.986Z"
   },
   {
    "duration": 517,
    "start_time": "2024-04-09T17:19:08.253Z"
   },
   {
    "duration": 364,
    "start_time": "2024-04-09T17:19:08.772Z"
   },
   {
    "duration": 595,
    "start_time": "2024-04-09T17:19:09.138Z"
   },
   {
    "duration": 517,
    "start_time": "2024-04-09T17:19:09.734Z"
   },
   {
    "duration": 387,
    "start_time": "2024-04-09T17:19:10.253Z"
   },
   {
    "duration": 12,
    "start_time": "2024-04-09T17:19:10.642Z"
   },
   {
    "duration": 199,
    "start_time": "2024-04-09T17:19:10.656Z"
   },
   {
    "duration": 4,
    "start_time": "2024-04-09T17:19:10.857Z"
   },
   {
    "duration": 337,
    "start_time": "2024-04-09T17:19:10.862Z"
   },
   {
    "duration": 187,
    "start_time": "2024-04-09T17:19:11.200Z"
   },
   {
    "duration": 481,
    "start_time": "2024-04-09T17:19:11.389Z"
   },
   {
    "duration": 5,
    "start_time": "2024-04-09T17:19:11.872Z"
   },
   {
    "duration": 552,
    "start_time": "2024-04-09T17:19:11.879Z"
   },
   {
    "duration": 263,
    "start_time": "2024-04-09T17:19:12.432Z"
   },
   {
    "duration": 129,
    "start_time": "2024-04-09T17:19:12.697Z"
   },
   {
    "duration": 6,
    "start_time": "2024-04-09T17:19:12.827Z"
   },
   {
    "duration": 154,
    "start_time": "2024-04-09T17:19:12.834Z"
   },
   {
    "duration": 22,
    "start_time": "2024-04-09T17:19:12.990Z"
   },
   {
    "duration": 10,
    "start_time": "2024-04-09T17:19:13.014Z"
   },
   {
    "duration": 38,
    "start_time": "2024-04-09T17:19:13.026Z"
   },
   {
    "duration": 12,
    "start_time": "2024-04-09T17:19:13.065Z"
   },
   {
    "duration": 33,
    "start_time": "2024-04-09T17:19:13.079Z"
   },
   {
    "duration": 1181,
    "start_time": "2024-04-10T04:55:55.273Z"
   },
   {
    "duration": 138,
    "start_time": "2024-04-10T04:55:56.456Z"
   },
   {
    "duration": 4,
    "start_time": "2024-04-10T04:55:56.597Z"
   },
   {
    "duration": 50,
    "start_time": "2024-04-10T04:55:56.603Z"
   },
   {
    "duration": 47,
    "start_time": "2024-04-10T04:55:56.655Z"
   },
   {
    "duration": 100,
    "start_time": "2024-04-10T04:55:56.703Z"
   },
   {
    "duration": 24,
    "start_time": "2024-04-10T04:55:56.804Z"
   },
   {
    "duration": 15,
    "start_time": "2024-04-10T04:55:56.830Z"
   },
   {
    "duration": 35,
    "start_time": "2024-04-10T04:55:56.846Z"
   },
   {
    "duration": 6,
    "start_time": "2024-04-10T04:55:56.884Z"
   },
   {
    "duration": 77,
    "start_time": "2024-04-10T04:55:56.891Z"
   },
   {
    "duration": 12,
    "start_time": "2024-04-10T04:55:56.969Z"
   },
   {
    "duration": 9,
    "start_time": "2024-04-10T04:55:56.983Z"
   },
   {
    "duration": 7,
    "start_time": "2024-04-10T04:55:56.994Z"
   },
   {
    "duration": 338,
    "start_time": "2024-04-10T04:55:57.002Z"
   },
   {
    "duration": 549,
    "start_time": "2024-04-10T04:55:57.342Z"
   },
   {
    "duration": 396,
    "start_time": "2024-04-10T04:55:57.892Z"
   },
   {
    "duration": 662,
    "start_time": "2024-04-10T04:55:58.290Z"
   },
   {
    "duration": 542,
    "start_time": "2024-04-10T04:55:58.954Z"
   },
   {
    "duration": 438,
    "start_time": "2024-04-10T04:55:59.498Z"
   },
   {
    "duration": 9,
    "start_time": "2024-04-10T04:55:59.939Z"
   },
   {
    "duration": 205,
    "start_time": "2024-04-10T04:55:59.950Z"
   },
   {
    "duration": 6,
    "start_time": "2024-04-10T04:56:00.157Z"
   },
   {
    "duration": 529,
    "start_time": "2024-04-10T04:56:00.165Z"
   },
   {
    "duration": 209,
    "start_time": "2024-04-10T04:56:00.696Z"
   },
   {
    "duration": 524,
    "start_time": "2024-04-10T04:56:00.906Z"
   },
   {
    "duration": 6,
    "start_time": "2024-04-10T04:56:01.432Z"
   },
   {
    "duration": 630,
    "start_time": "2024-04-10T04:56:01.442Z"
   },
   {
    "duration": 326,
    "start_time": "2024-04-10T04:56:02.075Z"
   },
   {
    "duration": 160,
    "start_time": "2024-04-10T04:56:02.403Z"
   },
   {
    "duration": 17,
    "start_time": "2024-04-10T04:56:02.565Z"
   },
   {
    "duration": 198,
    "start_time": "2024-04-10T04:56:02.584Z"
   },
   {
    "duration": 15,
    "start_time": "2024-04-10T04:56:02.784Z"
   },
   {
    "duration": 20,
    "start_time": "2024-04-10T04:56:02.800Z"
   },
   {
    "duration": 60,
    "start_time": "2024-04-10T04:56:02.823Z"
   },
   {
    "duration": 16,
    "start_time": "2024-04-10T04:56:02.885Z"
   },
   {
    "duration": 43,
    "start_time": "2024-04-10T04:56:02.903Z"
   },
   {
    "duration": 1194,
    "start_time": "2024-04-10T05:13:12.599Z"
   },
   {
    "duration": 78,
    "start_time": "2024-04-10T05:13:13.795Z"
   },
   {
    "duration": 5,
    "start_time": "2024-04-10T05:13:13.874Z"
   },
   {
    "duration": 60,
    "start_time": "2024-04-10T05:13:13.880Z"
   },
   {
    "duration": 53,
    "start_time": "2024-04-10T05:13:13.942Z"
   },
   {
    "duration": 54,
    "start_time": "2024-04-10T05:13:13.997Z"
   },
   {
    "duration": 22,
    "start_time": "2024-04-10T05:13:14.053Z"
   },
   {
    "duration": 43,
    "start_time": "2024-04-10T05:13:14.077Z"
   },
   {
    "duration": 13,
    "start_time": "2024-04-10T05:13:14.122Z"
   },
   {
    "duration": 6,
    "start_time": "2024-04-10T05:13:14.136Z"
   },
   {
    "duration": 35,
    "start_time": "2024-04-10T05:13:14.144Z"
   },
   {
    "duration": 19,
    "start_time": "2024-04-10T05:13:14.181Z"
   },
   {
    "duration": 13,
    "start_time": "2024-04-10T05:13:14.202Z"
   },
   {
    "duration": 5,
    "start_time": "2024-04-10T05:13:14.218Z"
   },
   {
    "duration": 337,
    "start_time": "2024-04-10T05:13:14.225Z"
   },
   {
    "duration": 629,
    "start_time": "2024-04-10T05:13:14.565Z"
   },
   {
    "duration": 436,
    "start_time": "2024-04-10T05:13:15.196Z"
   },
   {
    "duration": 692,
    "start_time": "2024-04-10T05:13:15.633Z"
   },
   {
    "duration": 561,
    "start_time": "2024-04-10T05:13:16.327Z"
   },
   {
    "duration": 469,
    "start_time": "2024-04-10T05:13:16.891Z"
   },
   {
    "duration": 24,
    "start_time": "2024-04-10T05:13:17.362Z"
   },
   {
    "duration": 211,
    "start_time": "2024-04-10T05:13:17.388Z"
   },
   {
    "duration": 5,
    "start_time": "2024-04-10T05:13:17.601Z"
   },
   {
    "duration": 406,
    "start_time": "2024-04-10T05:13:17.608Z"
   },
   {
    "duration": 231,
    "start_time": "2024-04-10T05:13:18.016Z"
   },
   {
    "duration": 587,
    "start_time": "2024-04-10T05:13:18.248Z"
   },
   {
    "duration": 4,
    "start_time": "2024-04-10T05:13:18.837Z"
   },
   {
    "duration": 629,
    "start_time": "2024-04-10T05:13:18.843Z"
   },
   {
    "duration": 281,
    "start_time": "2024-04-10T05:13:19.473Z"
   },
   {
    "duration": 141,
    "start_time": "2024-04-10T05:13:19.756Z"
   },
   {
    "duration": 6,
    "start_time": "2024-04-10T05:13:19.898Z"
   },
   {
    "duration": 187,
    "start_time": "2024-04-10T05:13:19.906Z"
   },
   {
    "duration": 13,
    "start_time": "2024-04-10T05:13:20.095Z"
   },
   {
    "duration": 11,
    "start_time": "2024-04-10T05:13:20.110Z"
   },
   {
    "duration": 65,
    "start_time": "2024-04-10T05:13:20.123Z"
   },
   {
    "duration": 19,
    "start_time": "2024-04-10T05:13:20.189Z"
   },
   {
    "duration": 11,
    "start_time": "2024-04-10T05:13:20.210Z"
   },
   {
    "duration": 1413,
    "start_time": "2024-04-10T09:02:28.829Z"
   },
   {
    "duration": 145,
    "start_time": "2024-04-10T09:02:30.244Z"
   },
   {
    "duration": 4,
    "start_time": "2024-04-10T09:02:30.391Z"
   },
   {
    "duration": 116,
    "start_time": "2024-04-10T09:02:30.397Z"
   },
   {
    "duration": 82,
    "start_time": "2024-04-10T09:02:30.515Z"
   },
   {
    "duration": 200,
    "start_time": "2024-04-10T09:02:30.599Z"
   },
   {
    "duration": 23,
    "start_time": "2024-04-10T09:02:30.801Z"
   },
   {
    "duration": 36,
    "start_time": "2024-04-10T09:02:30.826Z"
   },
   {
    "duration": 34,
    "start_time": "2024-04-10T09:02:30.864Z"
   },
   {
    "duration": 32,
    "start_time": "2024-04-10T09:02:30.901Z"
   },
   {
    "duration": 14,
    "start_time": "2024-04-10T09:03:08.907Z"
   },
   {
    "duration": 100,
    "start_time": "2024-04-10T09:04:11.578Z"
   },
   {
    "duration": 19,
    "start_time": "2024-04-10T09:04:33.977Z"
   },
   {
    "duration": 17,
    "start_time": "2024-04-10T09:04:51.656Z"
   },
   {
    "duration": 19,
    "start_time": "2024-04-10T09:05:04.056Z"
   },
   {
    "duration": 29,
    "start_time": "2024-04-10T09:07:53.309Z"
   },
   {
    "duration": 15,
    "start_time": "2024-04-10T09:08:02.075Z"
   },
   {
    "duration": 13,
    "start_time": "2024-04-10T09:08:24.583Z"
   },
   {
    "duration": 12,
    "start_time": "2024-04-10T09:08:33.880Z"
   },
   {
    "duration": 11,
    "start_time": "2024-04-10T09:09:13.193Z"
   },
   {
    "duration": 10,
    "start_time": "2024-04-10T09:09:32.998Z"
   },
   {
    "duration": 100,
    "start_time": "2024-04-10T09:16:33.023Z"
   },
   {
    "duration": 88,
    "start_time": "2024-04-10T09:16:40.869Z"
   },
   {
    "duration": 8,
    "start_time": "2024-04-10T09:18:23.537Z"
   },
   {
    "duration": 5,
    "start_time": "2024-04-10T09:18:24.293Z"
   },
   {
    "duration": 10,
    "start_time": "2024-04-10T09:20:32.192Z"
   },
   {
    "duration": 8,
    "start_time": "2024-04-10T09:20:59.589Z"
   },
   {
    "duration": 9,
    "start_time": "2024-04-10T09:21:08.816Z"
   },
   {
    "duration": 10,
    "start_time": "2024-04-10T09:21:18.573Z"
   },
   {
    "duration": 13,
    "start_time": "2024-04-10T09:22:26.168Z"
   },
   {
    "duration": 11,
    "start_time": "2024-04-10T09:22:50.944Z"
   },
   {
    "duration": 13,
    "start_time": "2024-04-10T09:24:46.913Z"
   },
   {
    "duration": 12,
    "start_time": "2024-04-10T09:25:33.577Z"
   },
   {
    "duration": 10,
    "start_time": "2024-04-10T09:26:53.125Z"
   },
   {
    "duration": 6,
    "start_time": "2024-04-10T09:28:02.461Z"
   },
   {
    "duration": 8,
    "start_time": "2024-04-10T09:28:38.144Z"
   },
   {
    "duration": 5,
    "start_time": "2024-04-10T09:28:47.714Z"
   },
   {
    "duration": 13,
    "start_time": "2024-04-10T09:29:34.744Z"
   },
   {
    "duration": 15,
    "start_time": "2024-04-10T09:29:51.245Z"
   },
   {
    "duration": 10,
    "start_time": "2024-04-10T09:30:00.993Z"
   },
   {
    "duration": 13,
    "start_time": "2024-04-10T09:30:07.359Z"
   },
   {
    "duration": 12,
    "start_time": "2024-04-10T09:31:00.648Z"
   },
   {
    "duration": 12,
    "start_time": "2024-04-10T09:34:07.856Z"
   },
   {
    "duration": 29,
    "start_time": "2024-04-10T09:48:44.627Z"
   },
   {
    "duration": 19,
    "start_time": "2024-04-10T09:49:32.431Z"
   },
   {
    "duration": 13,
    "start_time": "2024-04-10T09:49:48.668Z"
   },
   {
    "duration": 15,
    "start_time": "2024-04-10T09:51:47.119Z"
   },
   {
    "duration": 4,
    "start_time": "2024-04-10T09:52:10.329Z"
   },
   {
    "duration": 11,
    "start_time": "2024-04-10T09:53:22.339Z"
   },
   {
    "duration": 10,
    "start_time": "2024-04-10T09:53:37.427Z"
   },
   {
    "duration": 20,
    "start_time": "2024-04-10T09:55:33.951Z"
   },
   {
    "duration": 12,
    "start_time": "2024-04-10T09:56:53.439Z"
   },
   {
    "duration": 13,
    "start_time": "2024-04-10T09:59:16.441Z"
   },
   {
    "duration": 19,
    "start_time": "2024-04-10T10:00:09.694Z"
   },
   {
    "duration": 102,
    "start_time": "2024-04-10T10:00:33.334Z"
   },
   {
    "duration": 14,
    "start_time": "2024-04-10T10:00:45.767Z"
   },
   {
    "duration": 13,
    "start_time": "2024-04-10T10:02:40.831Z"
   },
   {
    "duration": 18,
    "start_time": "2024-04-10T10:10:48.801Z"
   },
   {
    "duration": 12,
    "start_time": "2024-04-10T10:12:50.951Z"
   },
   {
    "duration": 13,
    "start_time": "2024-04-10T10:15:17.087Z"
   },
   {
    "duration": 29,
    "start_time": "2024-04-10T10:18:03.364Z"
   },
   {
    "duration": 17,
    "start_time": "2024-04-10T10:18:40.283Z"
   },
   {
    "duration": 33,
    "start_time": "2024-04-10T10:19:12.747Z"
   },
   {
    "duration": 4,
    "start_time": "2024-04-10T10:19:18.741Z"
   },
   {
    "duration": 14,
    "start_time": "2024-04-10T10:21:01.220Z"
   },
   {
    "duration": 15,
    "start_time": "2024-04-10T10:21:54.419Z"
   },
   {
    "duration": 12,
    "start_time": "2024-04-10T10:24:00.343Z"
   },
   {
    "duration": 15,
    "start_time": "2024-04-10T10:24:03.247Z"
   },
   {
    "duration": 84,
    "start_time": "2024-04-10T10:25:31.335Z"
   },
   {
    "duration": 1157,
    "start_time": "2024-04-10T10:25:47.416Z"
   },
   {
    "duration": 89,
    "start_time": "2024-04-10T10:25:48.575Z"
   },
   {
    "duration": 5,
    "start_time": "2024-04-10T10:25:48.666Z"
   },
   {
    "duration": 68,
    "start_time": "2024-04-10T10:25:48.673Z"
   },
   {
    "duration": 58,
    "start_time": "2024-04-10T10:25:48.743Z"
   },
   {
    "duration": 55,
    "start_time": "2024-04-10T10:25:48.802Z"
   },
   {
    "duration": 22,
    "start_time": "2024-04-10T10:25:48.858Z"
   },
   {
    "duration": 17,
    "start_time": "2024-04-10T10:25:48.882Z"
   },
   {
    "duration": 14,
    "start_time": "2024-04-10T10:25:48.900Z"
   },
   {
    "duration": 6,
    "start_time": "2024-04-10T10:25:48.916Z"
   },
   {
    "duration": 38,
    "start_time": "2024-04-10T10:25:48.923Z"
   },
   {
    "duration": 13,
    "start_time": "2024-04-10T10:25:48.963Z"
   },
   {
    "duration": 92,
    "start_time": "2024-04-10T10:25:48.978Z"
   },
   {
    "duration": 0,
    "start_time": "2024-04-10T10:25:49.072Z"
   },
   {
    "duration": 0,
    "start_time": "2024-04-10T10:25:49.074Z"
   },
   {
    "duration": 0,
    "start_time": "2024-04-10T10:25:49.075Z"
   },
   {
    "duration": 0,
    "start_time": "2024-04-10T10:25:49.076Z"
   },
   {
    "duration": 0,
    "start_time": "2024-04-10T10:25:49.077Z"
   },
   {
    "duration": 1,
    "start_time": "2024-04-10T10:25:49.078Z"
   },
   {
    "duration": 0,
    "start_time": "2024-04-10T10:25:49.080Z"
   },
   {
    "duration": 0,
    "start_time": "2024-04-10T10:25:49.081Z"
   },
   {
    "duration": 0,
    "start_time": "2024-04-10T10:25:49.082Z"
   },
   {
    "duration": 0,
    "start_time": "2024-04-10T10:25:49.084Z"
   },
   {
    "duration": 0,
    "start_time": "2024-04-10T10:25:49.086Z"
   },
   {
    "duration": 0,
    "start_time": "2024-04-10T10:25:49.087Z"
   },
   {
    "duration": 0,
    "start_time": "2024-04-10T10:25:49.088Z"
   },
   {
    "duration": 0,
    "start_time": "2024-04-10T10:25:49.091Z"
   },
   {
    "duration": 0,
    "start_time": "2024-04-10T10:25:49.092Z"
   },
   {
    "duration": 0,
    "start_time": "2024-04-10T10:25:49.094Z"
   },
   {
    "duration": 0,
    "start_time": "2024-04-10T10:25:49.095Z"
   },
   {
    "duration": 0,
    "start_time": "2024-04-10T10:25:49.097Z"
   },
   {
    "duration": 0,
    "start_time": "2024-04-10T10:25:49.098Z"
   },
   {
    "duration": 0,
    "start_time": "2024-04-10T10:25:49.099Z"
   },
   {
    "duration": 0,
    "start_time": "2024-04-10T10:25:49.101Z"
   },
   {
    "duration": 0,
    "start_time": "2024-04-10T10:25:49.102Z"
   },
   {
    "duration": 0,
    "start_time": "2024-04-10T10:25:49.104Z"
   },
   {
    "duration": 0,
    "start_time": "2024-04-10T10:25:49.106Z"
   },
   {
    "duration": 0,
    "start_time": "2024-04-10T10:25:49.107Z"
   },
   {
    "duration": 0,
    "start_time": "2024-04-10T10:25:49.109Z"
   },
   {
    "duration": 0,
    "start_time": "2024-04-10T10:25:49.110Z"
   },
   {
    "duration": 0,
    "start_time": "2024-04-10T10:25:49.156Z"
   },
   {
    "duration": 0,
    "start_time": "2024-04-10T10:25:49.158Z"
   },
   {
    "duration": 0,
    "start_time": "2024-04-10T10:25:49.160Z"
   },
   {
    "duration": 0,
    "start_time": "2024-04-10T10:25:49.161Z"
   },
   {
    "duration": 1198,
    "start_time": "2024-04-10T10:27:04.423Z"
   },
   {
    "duration": 141,
    "start_time": "2024-04-10T10:27:05.622Z"
   },
   {
    "duration": 4,
    "start_time": "2024-04-10T10:27:05.764Z"
   },
   {
    "duration": 70,
    "start_time": "2024-04-10T10:27:05.770Z"
   },
   {
    "duration": 92,
    "start_time": "2024-04-10T10:27:05.842Z"
   },
   {
    "duration": 54,
    "start_time": "2024-04-10T10:27:05.936Z"
   },
   {
    "duration": 22,
    "start_time": "2024-04-10T10:27:05.991Z"
   },
   {
    "duration": 15,
    "start_time": "2024-04-10T10:27:06.015Z"
   },
   {
    "duration": 17,
    "start_time": "2024-04-10T10:27:06.032Z"
   },
   {
    "duration": 8,
    "start_time": "2024-04-10T10:27:06.051Z"
   },
   {
    "duration": 20,
    "start_time": "2024-04-10T10:27:06.060Z"
   },
   {
    "duration": 38,
    "start_time": "2024-04-10T10:27:06.081Z"
   },
   {
    "duration": 43,
    "start_time": "2024-04-10T10:27:06.120Z"
   },
   {
    "duration": 6,
    "start_time": "2024-04-10T10:27:06.164Z"
   },
   {
    "duration": 39,
    "start_time": "2024-04-10T10:27:06.171Z"
   },
   {
    "duration": 12,
    "start_time": "2024-04-10T10:27:06.211Z"
   },
   {
    "duration": 108,
    "start_time": "2024-04-10T10:27:06.225Z"
   },
   {
    "duration": 11,
    "start_time": "2024-04-10T10:27:06.334Z"
   },
   {
    "duration": 11,
    "start_time": "2024-04-10T10:27:06.347Z"
   },
   {
    "duration": 11,
    "start_time": "2024-04-10T10:27:06.360Z"
   },
   {
    "duration": 290,
    "start_time": "2024-04-10T10:27:06.373Z"
   },
   {
    "duration": 574,
    "start_time": "2024-04-10T10:27:06.664Z"
   },
   {
    "duration": 408,
    "start_time": "2024-04-10T10:27:07.239Z"
   },
   {
    "duration": 612,
    "start_time": "2024-04-10T10:27:07.648Z"
   },
   {
    "duration": 538,
    "start_time": "2024-04-10T10:27:08.262Z"
   },
   {
    "duration": 443,
    "start_time": "2024-04-10T10:27:08.802Z"
   },
   {
    "duration": 16,
    "start_time": "2024-04-10T10:27:09.246Z"
   },
   {
    "duration": 197,
    "start_time": "2024-04-10T10:27:09.266Z"
   },
   {
    "duration": 5,
    "start_time": "2024-04-10T10:27:09.465Z"
   },
   {
    "duration": 394,
    "start_time": "2024-04-10T10:27:09.471Z"
   },
   {
    "duration": 216,
    "start_time": "2024-04-10T10:27:09.866Z"
   },
   {
    "duration": 529,
    "start_time": "2024-04-10T10:27:10.084Z"
   },
   {
    "duration": 6,
    "start_time": "2024-04-10T10:27:10.615Z"
   },
   {
    "duration": 612,
    "start_time": "2024-04-10T10:27:10.622Z"
   },
   {
    "duration": 279,
    "start_time": "2024-04-10T10:27:11.236Z"
   },
   {
    "duration": 142,
    "start_time": "2024-04-10T10:27:11.516Z"
   },
   {
    "duration": 5,
    "start_time": "2024-04-10T10:27:11.660Z"
   },
   {
    "duration": 170,
    "start_time": "2024-04-10T10:27:11.667Z"
   },
   {
    "duration": 17,
    "start_time": "2024-04-10T10:27:11.839Z"
   },
   {
    "duration": 11,
    "start_time": "2024-04-10T10:27:11.858Z"
   },
   {
    "duration": 62,
    "start_time": "2024-04-10T10:27:11.870Z"
   },
   {
    "duration": 13,
    "start_time": "2024-04-10T10:27:11.934Z"
   },
   {
    "duration": 15,
    "start_time": "2024-04-10T10:27:11.949Z"
   },
   {
    "duration": 97,
    "start_time": "2024-04-10T10:38:20.398Z"
   },
   {
    "duration": 11,
    "start_time": "2024-04-10T10:38:31.055Z"
   },
   {
    "duration": 13,
    "start_time": "2024-04-10T10:38:42.528Z"
   },
   {
    "duration": 12,
    "start_time": "2024-04-10T10:42:35.734Z"
   },
   {
    "duration": 13,
    "start_time": "2024-04-10T10:43:25.035Z"
   },
   {
    "duration": 1171,
    "start_time": "2024-04-10T10:43:45.062Z"
   },
   {
    "duration": 91,
    "start_time": "2024-04-10T10:43:46.235Z"
   },
   {
    "duration": 4,
    "start_time": "2024-04-10T10:43:46.328Z"
   },
   {
    "duration": 61,
    "start_time": "2024-04-10T10:43:46.333Z"
   },
   {
    "duration": 55,
    "start_time": "2024-04-10T10:43:46.396Z"
   },
   {
    "duration": 54,
    "start_time": "2024-04-10T10:43:46.453Z"
   },
   {
    "duration": 21,
    "start_time": "2024-04-10T10:43:46.509Z"
   },
   {
    "duration": 13,
    "start_time": "2024-04-10T10:43:46.532Z"
   },
   {
    "duration": 20,
    "start_time": "2024-04-10T10:43:46.547Z"
   },
   {
    "duration": 5,
    "start_time": "2024-04-10T10:43:46.569Z"
   },
   {
    "duration": 15,
    "start_time": "2024-04-10T10:43:46.575Z"
   },
   {
    "duration": 12,
    "start_time": "2024-04-10T10:43:46.591Z"
   },
   {
    "duration": 30,
    "start_time": "2024-04-10T10:43:46.605Z"
   },
   {
    "duration": 24,
    "start_time": "2024-04-10T10:43:46.638Z"
   },
   {
    "duration": 15,
    "start_time": "2024-04-10T10:43:46.664Z"
   },
   {
    "duration": 9,
    "start_time": "2024-04-10T10:43:46.680Z"
   },
   {
    "duration": 295,
    "start_time": "2024-04-10T10:43:46.690Z"
   },
   {
    "duration": 481,
    "start_time": "2024-04-10T10:43:46.986Z"
   },
   {
    "duration": 468,
    "start_time": "2024-04-10T10:43:47.469Z"
   },
   {
    "duration": 614,
    "start_time": "2024-04-10T10:43:47.938Z"
   },
   {
    "duration": 534,
    "start_time": "2024-04-10T10:43:48.554Z"
   },
   {
    "duration": 411,
    "start_time": "2024-04-10T10:43:49.089Z"
   },
   {
    "duration": 9,
    "start_time": "2024-04-10T10:43:49.501Z"
   },
   {
    "duration": 239,
    "start_time": "2024-04-10T10:43:49.511Z"
   },
   {
    "duration": 4,
    "start_time": "2024-04-10T10:43:49.755Z"
   },
   {
    "duration": 271,
    "start_time": "2024-04-10T10:43:49.761Z"
   },
   {
    "duration": 208,
    "start_time": "2024-04-10T10:43:50.034Z"
   },
   {
    "duration": 526,
    "start_time": "2024-04-10T10:43:50.244Z"
   },
   {
    "duration": 4,
    "start_time": "2024-04-10T10:43:50.772Z"
   },
   {
    "duration": 566,
    "start_time": "2024-04-10T10:43:50.778Z"
   },
   {
    "duration": 286,
    "start_time": "2024-04-10T10:43:51.346Z"
   },
   {
    "duration": 121,
    "start_time": "2024-04-10T10:43:51.634Z"
   },
   {
    "duration": 6,
    "start_time": "2024-04-10T10:43:51.757Z"
   },
   {
    "duration": 181,
    "start_time": "2024-04-10T10:43:51.764Z"
   },
   {
    "duration": 13,
    "start_time": "2024-04-10T10:43:51.947Z"
   },
   {
    "duration": 32,
    "start_time": "2024-04-10T10:43:51.962Z"
   },
   {
    "duration": 66,
    "start_time": "2024-04-10T10:43:51.996Z"
   },
   {
    "duration": 13,
    "start_time": "2024-04-10T10:43:52.064Z"
   },
   {
    "duration": 34,
    "start_time": "2024-04-10T10:43:52.079Z"
   },
   {
    "duration": 718,
    "start_time": "2024-04-10T10:46:58.424Z"
   },
   {
    "duration": 657,
    "start_time": "2024-04-10T10:47:12.515Z"
   },
   {
    "duration": 600,
    "start_time": "2024-04-10T10:55:49.580Z"
   },
   {
    "duration": 589,
    "start_time": "2024-04-10T10:56:12.748Z"
   },
   {
    "duration": 459,
    "start_time": "2024-04-10T10:56:50.229Z"
   },
   {
    "duration": 247,
    "start_time": "2024-04-10T11:55:07.244Z"
   },
   {
    "duration": 191,
    "start_time": "2024-04-10T11:55:23.891Z"
   },
   {
    "duration": 296,
    "start_time": "2024-04-10T11:56:41.305Z"
   },
   {
    "duration": 14,
    "start_time": "2024-04-10T12:00:47.173Z"
   },
   {
    "duration": 235,
    "start_time": "2024-04-10T12:26:24.889Z"
   },
   {
    "duration": 190,
    "start_time": "2024-04-10T12:27:25.130Z"
   },
   {
    "duration": 152,
    "start_time": "2024-04-10T12:27:49.746Z"
   },
   {
    "duration": 11,
    "start_time": "2024-04-10T12:49:13.195Z"
   },
   {
    "duration": 30,
    "start_time": "2024-04-10T12:52:38.711Z"
   },
   {
    "duration": 1401,
    "start_time": "2024-04-10T15:13:51.567Z"
   },
   {
    "duration": 144,
    "start_time": "2024-04-10T15:13:52.970Z"
   },
   {
    "duration": 5,
    "start_time": "2024-04-10T15:13:53.115Z"
   },
   {
    "duration": 76,
    "start_time": "2024-04-10T15:13:53.121Z"
   },
   {
    "duration": 55,
    "start_time": "2024-04-10T15:13:53.199Z"
   },
   {
    "duration": 97,
    "start_time": "2024-04-10T15:13:53.256Z"
   },
   {
    "duration": 22,
    "start_time": "2024-04-10T15:13:53.354Z"
   },
   {
    "duration": 14,
    "start_time": "2024-04-10T15:13:53.377Z"
   },
   {
    "duration": 11,
    "start_time": "2024-04-10T15:13:53.392Z"
   },
   {
    "duration": 5,
    "start_time": "2024-04-10T15:13:53.404Z"
   },
   {
    "duration": 10,
    "start_time": "2024-04-10T15:13:53.410Z"
   },
   {
    "duration": 10,
    "start_time": "2024-04-10T15:13:53.422Z"
   },
   {
    "duration": 73,
    "start_time": "2024-04-10T15:13:53.434Z"
   },
   {
    "duration": 12,
    "start_time": "2024-04-10T15:13:53.510Z"
   },
   {
    "duration": 8,
    "start_time": "2024-04-10T15:13:53.523Z"
   },
   {
    "duration": 7,
    "start_time": "2024-04-10T15:13:53.532Z"
   },
   {
    "duration": 295,
    "start_time": "2024-04-10T15:13:53.540Z"
   },
   {
    "duration": 474,
    "start_time": "2024-04-10T15:13:53.836Z"
   },
   {
    "duration": 496,
    "start_time": "2024-04-10T15:13:54.311Z"
   },
   {
    "duration": 717,
    "start_time": "2024-04-10T15:13:54.809Z"
   },
   {
    "duration": 625,
    "start_time": "2024-04-10T15:13:55.528Z"
   },
   {
    "duration": 469,
    "start_time": "2024-04-10T15:13:56.155Z"
   },
   {
    "duration": 9,
    "start_time": "2024-04-10T15:13:56.626Z"
   },
   {
    "duration": 245,
    "start_time": "2024-04-10T15:13:56.637Z"
   },
   {
    "duration": 4,
    "start_time": "2024-04-10T15:13:56.883Z"
   },
   {
    "duration": 272,
    "start_time": "2024-04-10T15:13:56.889Z"
   },
   {
    "duration": 230,
    "start_time": "2024-04-10T15:13:57.162Z"
   },
   {
    "duration": 543,
    "start_time": "2024-04-10T15:13:57.393Z"
   },
   {
    "duration": 195,
    "start_time": "2024-04-10T15:13:57.937Z"
   },
   {
    "duration": 4,
    "start_time": "2024-04-10T15:13:58.134Z"
   },
   {
    "duration": 591,
    "start_time": "2024-04-10T15:13:58.140Z"
   },
   {
    "duration": 404,
    "start_time": "2024-04-10T15:13:58.733Z"
   },
   {
    "duration": 296,
    "start_time": "2024-04-10T15:13:59.140Z"
   },
   {
    "duration": 13,
    "start_time": "2024-04-10T15:13:59.438Z"
   },
   {
    "duration": 188,
    "start_time": "2024-04-10T15:13:59.452Z"
   },
   {
    "duration": 185,
    "start_time": "2024-04-10T15:13:59.642Z"
   },
   {
    "duration": 138,
    "start_time": "2024-04-10T15:13:59.829Z"
   },
   {
    "duration": 14,
    "start_time": "2024-04-10T15:13:59.968Z"
   },
   {
    "duration": 163,
    "start_time": "2024-04-10T15:13:59.984Z"
   },
   {
    "duration": 155,
    "start_time": "2024-04-10T15:14:00.149Z"
   },
   {
    "duration": 102,
    "start_time": "2024-04-10T15:14:00.308Z"
   },
   {
    "duration": 183,
    "start_time": "2024-04-10T15:14:00.411Z"
   },
   {
    "duration": 235,
    "start_time": "2024-04-10T15:14:00.596Z"
   },
   {
    "duration": 92,
    "start_time": "2024-04-10T15:14:00.833Z"
   },
   {
    "duration": 90,
    "start_time": "2024-04-10T15:14:00.927Z"
   },
   {
    "duration": 88,
    "start_time": "2024-04-10T15:14:01.018Z"
   },
   {
    "duration": 1289,
    "start_time": "2024-04-11T10:58:16.370Z"
   },
   {
    "duration": 141,
    "start_time": "2024-04-11T10:58:17.662Z"
   },
   {
    "duration": 5,
    "start_time": "2024-04-11T10:58:17.805Z"
   },
   {
    "duration": 86,
    "start_time": "2024-04-11T10:58:17.812Z"
   },
   {
    "duration": 46,
    "start_time": "2024-04-11T10:58:17.900Z"
   },
   {
    "duration": 102,
    "start_time": "2024-04-11T10:58:17.948Z"
   },
   {
    "duration": 22,
    "start_time": "2024-04-11T10:58:18.052Z"
   },
   {
    "duration": 32,
    "start_time": "2024-04-11T10:58:18.076Z"
   },
   {
    "duration": 32,
    "start_time": "2024-04-11T10:58:18.110Z"
   },
   {
    "duration": 22,
    "start_time": "2024-04-11T10:58:18.144Z"
   },
   {
    "duration": 31,
    "start_time": "2024-04-11T10:58:18.168Z"
   },
   {
    "duration": 22,
    "start_time": "2024-04-11T10:58:18.201Z"
   },
   {
    "duration": 109,
    "start_time": "2024-04-11T10:58:18.226Z"
   },
   {
    "duration": 16,
    "start_time": "2024-04-11T10:58:18.337Z"
   },
   {
    "duration": 30,
    "start_time": "2024-04-11T10:58:18.354Z"
   },
   {
    "duration": 39,
    "start_time": "2024-04-11T10:58:18.386Z"
   },
   {
    "duration": 343,
    "start_time": "2024-04-11T10:58:18.427Z"
   },
   {
    "duration": 523,
    "start_time": "2024-04-11T10:58:18.771Z"
   },
   {
    "duration": 509,
    "start_time": "2024-04-11T10:58:19.295Z"
   },
   {
    "duration": 723,
    "start_time": "2024-04-11T10:58:19.806Z"
   },
   {
    "duration": 625,
    "start_time": "2024-04-11T10:58:20.530Z"
   },
   {
    "duration": 512,
    "start_time": "2024-04-11T10:58:21.158Z"
   },
   {
    "duration": 13,
    "start_time": "2024-04-11T10:58:21.673Z"
   },
   {
    "duration": 254,
    "start_time": "2024-04-11T10:58:21.687Z"
   },
   {
    "duration": 4,
    "start_time": "2024-04-11T10:58:21.943Z"
   },
   {
    "duration": 313,
    "start_time": "2024-04-11T10:58:21.949Z"
   },
   {
    "duration": 216,
    "start_time": "2024-04-11T10:58:22.263Z"
   },
   {
    "duration": 544,
    "start_time": "2024-04-11T10:58:22.483Z"
   },
   {
    "duration": 215,
    "start_time": "2024-04-11T10:58:23.029Z"
   },
   {
    "duration": 4,
    "start_time": "2024-04-11T10:58:23.246Z"
   },
   {
    "duration": 724,
    "start_time": "2024-04-11T10:58:23.251Z"
   },
   {
    "duration": 326,
    "start_time": "2024-04-11T10:58:23.977Z"
   },
   {
    "duration": 377,
    "start_time": "2024-04-11T10:58:24.305Z"
   },
   {
    "duration": 18,
    "start_time": "2024-04-11T10:58:24.685Z"
   },
   {
    "duration": 315,
    "start_time": "2024-04-11T10:58:24.705Z"
   },
   {
    "duration": 246,
    "start_time": "2024-04-11T10:58:25.022Z"
   },
   {
    "duration": 225,
    "start_time": "2024-04-11T10:58:25.273Z"
   },
   {
    "duration": 6,
    "start_time": "2024-04-11T10:58:25.500Z"
   },
   {
    "duration": 210,
    "start_time": "2024-04-11T10:58:25.508Z"
   },
   {
    "duration": 195,
    "start_time": "2024-04-11T10:58:25.720Z"
   },
   {
    "duration": 15,
    "start_time": "2024-04-11T10:58:25.917Z"
   },
   {
    "duration": 13,
    "start_time": "2024-04-11T10:58:25.934Z"
   },
   {
    "duration": 57,
    "start_time": "2024-04-11T10:58:25.949Z"
   },
   {
    "duration": 32,
    "start_time": "2024-04-11T10:58:26.008Z"
   },
   {
    "duration": 39,
    "start_time": "2024-04-11T10:58:26.043Z"
   },
   {
    "duration": 11,
    "start_time": "2024-04-11T10:58:26.084Z"
   },
   {
    "duration": 1241,
    "start_time": "2024-04-11T11:05:52.206Z"
   },
   {
    "duration": 83,
    "start_time": "2024-04-11T11:05:53.450Z"
   },
   {
    "duration": 5,
    "start_time": "2024-04-11T11:05:53.535Z"
   },
   {
    "duration": 86,
    "start_time": "2024-04-11T11:05:53.542Z"
   },
   {
    "duration": 50,
    "start_time": "2024-04-11T11:05:53.631Z"
   },
   {
    "duration": 62,
    "start_time": "2024-04-11T11:05:53.683Z"
   },
   {
    "duration": 25,
    "start_time": "2024-04-11T11:05:53.747Z"
   },
   {
    "duration": 40,
    "start_time": "2024-04-11T11:05:53.774Z"
   },
   {
    "duration": 27,
    "start_time": "2024-04-11T11:05:53.815Z"
   },
   {
    "duration": 6,
    "start_time": "2024-04-11T11:05:53.843Z"
   },
   {
    "duration": 17,
    "start_time": "2024-04-11T11:05:53.851Z"
   },
   {
    "duration": 15,
    "start_time": "2024-04-11T11:05:53.869Z"
   },
   {
    "duration": 43,
    "start_time": "2024-04-11T11:05:53.886Z"
   },
   {
    "duration": 13,
    "start_time": "2024-04-11T11:05:53.932Z"
   },
   {
    "duration": 26,
    "start_time": "2024-04-11T11:05:53.947Z"
   },
   {
    "duration": 6,
    "start_time": "2024-04-11T11:05:53.976Z"
   },
   {
    "duration": 343,
    "start_time": "2024-04-11T11:05:53.985Z"
   },
   {
    "duration": 554,
    "start_time": "2024-04-11T11:05:54.331Z"
   },
   {
    "duration": 500,
    "start_time": "2024-04-11T11:05:54.887Z"
   },
   {
    "duration": 652,
    "start_time": "2024-04-11T11:05:55.389Z"
   },
   {
    "duration": 616,
    "start_time": "2024-04-11T11:05:56.042Z"
   },
   {
    "duration": 526,
    "start_time": "2024-04-11T11:05:56.660Z"
   },
   {
    "duration": 9,
    "start_time": "2024-04-11T11:05:57.188Z"
   },
   {
    "duration": 261,
    "start_time": "2024-04-11T11:05:57.199Z"
   },
   {
    "duration": 12,
    "start_time": "2024-04-11T11:05:57.461Z"
   },
   {
    "duration": 299,
    "start_time": "2024-04-11T11:05:57.475Z"
   },
   {
    "duration": 208,
    "start_time": "2024-04-11T11:05:57.776Z"
   },
   {
    "duration": 605,
    "start_time": "2024-04-11T11:05:57.986Z"
   },
   {
    "duration": 322,
    "start_time": "2024-04-11T11:05:58.593Z"
   },
   {
    "duration": 4,
    "start_time": "2024-04-11T11:05:58.917Z"
   },
   {
    "duration": 595,
    "start_time": "2024-04-11T11:05:58.923Z"
   },
   {
    "duration": 377,
    "start_time": "2024-04-11T11:05:59.520Z"
   },
   {
    "duration": 296,
    "start_time": "2024-04-11T11:05:59.899Z"
   },
   {
    "duration": 14,
    "start_time": "2024-04-11T11:06:00.196Z"
   },
   {
    "duration": 226,
    "start_time": "2024-04-11T11:06:00.212Z"
   },
   {
    "duration": 205,
    "start_time": "2024-04-11T11:06:00.439Z"
   },
   {
    "duration": 150,
    "start_time": "2024-04-11T11:06:00.645Z"
   },
   {
    "duration": 81,
    "start_time": "2024-04-11T11:06:00.797Z"
   },
   {
    "duration": 288,
    "start_time": "2024-04-11T11:06:00.880Z"
   },
   {
    "duration": 172,
    "start_time": "2024-04-11T11:06:01.170Z"
   },
   {
    "duration": 11,
    "start_time": "2024-04-11T11:06:01.346Z"
   },
   {
    "duration": 93,
    "start_time": "2024-04-11T11:06:01.358Z"
   },
   {
    "duration": 372,
    "start_time": "2024-04-11T11:06:01.453Z"
   },
   {
    "duration": 128,
    "start_time": "2024-04-11T11:06:01.827Z"
   },
   {
    "duration": 363,
    "start_time": "2024-04-11T11:06:01.957Z"
   },
   {
    "duration": 33,
    "start_time": "2024-04-11T11:06:02.322Z"
   }
  ],
  "kernelspec": {
   "display_name": "Python 3 (ipykernel)",
   "language": "python",
   "name": "python3"
  },
  "language_info": {
   "codemirror_mode": {
    "name": "ipython",
    "version": 3
   },
   "file_extension": ".py",
   "mimetype": "text/x-python",
   "name": "python",
   "nbconvert_exporter": "python",
   "pygments_lexer": "ipython3",
   "version": "3.9.5"
  },
  "toc": {
   "base_numbering": 1,
   "nav_menu": {},
   "number_sections": true,
   "sideBar": true,
   "skip_h1_title": true,
   "title_cell": "Table of Contents",
   "title_sidebar": "Contents",
   "toc_cell": false,
   "toc_position": {
    "height": "calc(100% - 180px)",
    "left": "10px",
    "top": "150px",
    "width": "311.4px"
   },
   "toc_section_display": true,
   "toc_window_display": false
  }
 },
 "nbformat": 4,
 "nbformat_minor": 2
}
